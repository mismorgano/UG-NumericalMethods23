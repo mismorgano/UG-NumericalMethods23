{
  "cells": [
    {
      "cell_type": "markdown",
      "id": "a8f8581f-4086-4dc1-9146-dcc8df53dc6e",
      "metadata": {
        "id": "a8f8581f-4086-4dc1-9146-dcc8df53dc6e"
      },
      "source": [
        "# Curso de Métodos Numéricos (DEMAT)\n",
        "# Tarea 9\n",
        "\n",
        "| Descripción:                         | Fechas                  |\n",
        "|--------------------------------------|-------------------------|\n",
        "| Fecha de publicación del documento:  | **Octubre   23, 2023**  |\n",
        "| Fecha límite de entrega de la tarea: | **Noviembre  1, 2023**  |"
      ]
    },
    {
      "cell_type": "markdown",
      "id": "58655501-089f-44a1-be7c-ba5578569e0b",
      "metadata": {
        "id": "58655501-089f-44a1-be7c-ba5578569e0b"
      },
      "source": [
        "## Indicaciones\n",
        "\n",
        "Puede escribir el código de los algoritmos que se piden en una\n",
        "celda de este notebook o si lo prefiere, escribir las funciones\n",
        "en un archivo `.py` independiente e importar la funciones para\n",
        "usarlas en este notebook. Lo importante es que en el notebook\n",
        "aparezcan los resultados de la pruebas realizadas y que:\n",
        "\n",
        "- Si se requieren otros archivos para poder reproducir los resultados,\n",
        "  para mandar la tarea cree un archivo ZIP en el que **incluya\n",
        "  el notebook** y los archivos adicionales.\n",
        "- Si todos los códigos que se requieren para reproducir los\n",
        "  resultados están en el notebook, no hace falta comprimir el notebook\n",
        "  y puede anexar este archivo en la tarea del Classroom.\n",
        "- Exportar el notebook a un archivo PDF y anexarlo en la tarea del\n",
        "  Classroom como un archivo independiente.\n",
        "  **No incluya el PDF dentro del ZIP**, porque la idea que lo pueda accesar\n",
        "  directamente para poner anotaciones y la calificación de cada ejercicio.\n",
        "  \n",
        "---"
      ]
    },
    {
      "cell_type": "markdown",
      "id": "2ece1d2c-8d2c-4eec-8383-a92c0b6403bf",
      "metadata": {
        "id": "2ece1d2c-8d2c-4eec-8383-a92c0b6403bf"
      },
      "source": [
        "## Ejercicio 1  (6 puntos)\n",
        "\n",
        "Programe la función que calcula la factorización QR de una matriz usando rotaciones de Givens.\n",
        "\n",
        "1. Escriba la función que implemente el algoritmo descrito en la diapositiva 10\n",
        "   de la Clase 20.\n",
        "- La función recibe una como entrada una matriz $\\mathbf{A}$ de tamaño $m \\times n$\n",
        "  y una tolerancia $\\tau>0$.\n",
        "- Use la tolerancia $\\tau$ en lugar de $\\epsilon_m$, de modo que la condición\n",
        "  para aplicar la rotación de Givens sea $|s| > \\tau$.\n",
        "- La función debe devolver las matrices  $\\mathbf{Q}$ y $\\mathbf{R}$.\n",
        "\n",
        "2. Pruebe la función con las matrices que se definen en la celda siguiente con\n",
        "   tolencia $\\tau = \\epsilon_m^{2/3}$.\n",
        "3. Cada caso reporte para saber si el algoritmo funciona, reporte el valor de\n",
        "\n",
        "$$\\|\\mathbf{Q}^\\top \\mathbf{Q} - \\mathbf{I}\\|,$$  \n",
        "\n",
        "$$\\|\\mathbf{A} - \\mathbf{Q} \\mathbf{R}\\|$$\n",
        "\n",
        "y\n",
        "\n",
        "$$\\|\\mathbf{R} - np.triu(\\mathbf{R})\\|,$$\n",
        "\n",
        "donde [np.triu](https://numpy.org/doc/stable/reference/generated/numpy.triu.html)\n",
        "es la función que devuelve una copia de la matriz $\\mathbf{R}$ con ceros por debajo de la\n",
        "diagonal principal, incluso si la matriz $\\mathbf{R}$ es rectangular.\n",
        "\n",
        "### Solución:\n"
      ]
    },
    {
      "cell_type": "code",
      "execution_count": 1,
      "id": "6db834e1-5395-4088-a9ad-526a9c65e266",
      "metadata": {
        "id": "6db834e1-5395-4088-a9ad-526a9c65e266"
      },
      "outputs": [],
      "source": [
        "# Matrices para prueba\n",
        "\n",
        "import numpy as np\n",
        "\n",
        "np.random.seed(123)\n",
        "\n",
        "# Una matriz simétrica\n",
        "A  = np.round(np.random.randn(10,10), 2)\n",
        "A1 = A + A.T\n",
        "\n",
        "# Una matriz cuadrada arbitraria\n",
        "A2 = np.round(np.random.randn(10,10), 2)\n",
        "\n",
        "# Matrices rectangulares\n",
        "A3 = np.round(np.random.randn(50,10), 2)\n",
        "\n",
        "A4 = np.round(np.random.randn(1000,100), 2)\n"
      ]
    },
    {
      "cell_type": "code",
      "execution_count": 2,
      "id": "329c9ce2-4439-4fd6-b0f4-5b0c67650ef1",
      "metadata": {
        "id": "329c9ce2-4439-4fd6-b0f4-5b0c67650ef1"
      },
      "outputs": [],
      "source": [
        "# Código de la funcion\n",
        "\n",
        "import numpy as np\n",
        "\n",
        "def qr_givens(A: np.ndarray, t:float = 0):\n",
        "    m, n = A.shape\n",
        "    Q = np.eye(m)\n",
        "    R = A.copy().astype(float)\n",
        "\n",
        "    for j in range(n):\n",
        "        for i in range(j+1, m):\n",
        "            c, s = R[j, j], R[i, j]\n",
        "            if np.abs(s) > t: # queremos que s sea cero\n",
        "                d = np.sqrt(c**2 + s**2)\n",
        "                c, s = c/d, s/d\n",
        "                R[[j, i], :] = np.array([[c, s], [-s, c]]) @ R[[j, i], :]\n",
        "                R[i, j] = 0 # esa posición debe ser un cero\n",
        "                Q[[j, i], :] = np.array([[c, s], [-s, c]]) @ Q[[j, i], :]\n",
        "\n",
        "    return Q.T, R"
      ]
    },
    {
      "cell_type": "code",
      "execution_count": 3,
      "id": "7922b89a-a833-4f1a-863a-7891fdce0721",
      "metadata": {
        "id": "7922b89a-a833-4f1a-863a-7891fdce0721"
      },
      "outputs": [],
      "source": [
        "from collections.abc import Callable\n",
        "# Pruebas\n",
        "\n",
        "def test_qr(A:np.ndarray, QR: tuple[np.ndarray, np.ndarray]):\n",
        "    from numpy.linalg import norm\n",
        "    Q, R = QR\n",
        "    print(f\"||Q.T Q - I|| = {norm(Q.T@Q - np.eye(Q.shape[0]))}\")\n",
        "    print(f\"||A - QR|| = {norm(A-Q@R)}\")\n",
        "    print(f\"||R - np.triu(R)|| = {norm(R-np.triu(R))}\")\n",
        "\n",
        "# def test_qr(A: np.ndarray, qr_descom: Callable):\n",
        "#     from numpy.linalg import norm\n",
        "#     eps = np.finfo(float).eps**(2/3)\n",
        "#     Q, R = qr_descom(A, eps)\n",
        "#     print(f\"||Q.T Q - I|| = {norm(Q.T@Q - np.eye(Q.shape[0]))}\")\n",
        "#     print(f\"||A - QR|| = {norm(A-Q@R)}\")\n",
        "#     print(f\"||R - np.triu(R)|| = {norm(R-np.triu(R))}\")"
      ]
    },
    {
      "cell_type": "code",
      "source": [
        "# Pruebas\n",
        "from numpy.linalg import norm\n",
        "# test_qr(A4, qr_givens), test_qr(A4, np.linalg.qr)\n",
        "matrices = [A1, A2, A3, A4]\n",
        "\n",
        "# comparamos nuestra implementación con la de numpy\n",
        "for m in matrices:\n",
        "    eps = np.finfo(float).eps**(2/3)\n",
        "    print(\"Mi implementacion\")\n",
        "    test_qr(m, qr_givens(m, eps))\n",
        "    print(\"La implementacion de numpy\")\n",
        "    Q, R = np.linalg.qr(m)\n",
        "    print(f\"||Q.T Q - I|| = {norm(Q@Q.T - np.eye(Q.shape[0]))}\")\n",
        "    print(f\"||A - QR|| = {norm(m-(Q@R))}\")\n",
        "    print(f\"||R - np.triu(R)|| = {norm(R-np.triu(R))}\")\n",
        "    print()"
      ],
      "metadata": {
        "colab": {
          "base_uri": "https://localhost:8080/"
        },
        "id": "3cUT67FhTmXW",
        "outputId": "ff79a97e-9d0b-403d-d1a7-c1aa5cba2b75"
      },
      "id": "3cUT67FhTmXW",
      "execution_count": 4,
      "outputs": [
        {
          "output_type": "stream",
          "name": "stdout",
          "text": [
            "Mi implementacion\n",
            "||Q.T Q - I|| = 1.378538344847531e-15\n",
            "||A - QR|| = 8.935714024050041e-15\n",
            "||R - np.triu(R)|| = 0.0\n",
            "La implementacion de numpy\n",
            "||Q.T Q - I|| = 1.5201772867032951e-15\n",
            "||A - QR|| = 5.424455622660468e-15\n",
            "||R - np.triu(R)|| = 0.0\n",
            "\n",
            "Mi implementacion\n",
            "||Q.T Q - I|| = 1.523510175501811e-15\n",
            "||A - QR|| = 4.523908720264494e-15\n",
            "||R - np.triu(R)|| = 0.0\n",
            "La implementacion de numpy\n",
            "||Q.T Q - I|| = 1.3729492913293084e-15\n",
            "||A - QR|| = 3.3972990372280907e-15\n",
            "||R - np.triu(R)|| = 0.0\n",
            "\n",
            "Mi implementacion\n",
            "||Q.T Q - I|| = 4.885939345863889e-15\n",
            "||A - QR|| = 1.8936122355906838e-14\n",
            "||R - np.triu(R)|| = 0.0\n",
            "La implementacion de numpy\n",
            "||Q.T Q - I|| = 6.324555320336758\n",
            "||A - QR|| = 5.12911379948457e-15\n",
            "||R - np.triu(R)|| = 0.0\n",
            "\n",
            "Mi implementacion\n",
            "||Q.T Q - I|| = 6.735292029767495e-14\n",
            "||A - QR|| = 1.130323945538053e-12\n",
            "||R - np.triu(R)|| = 0.0\n",
            "La implementacion de numpy\n",
            "||Q.T Q - I|| = 30.000000000000004\n",
            "||A - QR|| = 1.8892056894281572e-13\n",
            "||R - np.triu(R)|| = 0.0\n",
            "\n"
          ]
        }
      ]
    },
    {
      "cell_type": "markdown",
      "source": [
        "De lo anterior podemos incluso notar que nuestra implementación tiene errores\n",
        "cercanos a los de `numpy` (en un caso incluso es \"mejor\", mas pequeño)."
      ],
      "metadata": {
        "id": "wrJGGz11WzOe"
      },
      "id": "wrJGGz11WzOe"
    },
    {
      "cell_type": "code",
      "source": [],
      "metadata": {
        "id": "GwKkvb1PeVKI"
      },
      "id": "GwKkvb1PeVKI",
      "execution_count": 4,
      "outputs": []
    },
    {
      "cell_type": "markdown",
      "id": "48ec7771-d9d2-4886-b9e5-637b04fca376",
      "metadata": {
        "id": "48ec7771-d9d2-4886-b9e5-637b04fca376"
      },
      "source": [
        "_ _\n",
        "\n",
        "```\n",
        "\n",
        "\n",
        "\n",
        "\n",
        "\n",
        "\n",
        "\n",
        "```\n",
        "\n",
        "---"
      ]
    },
    {
      "cell_type": "markdown",
      "id": "771b9975-5bcd-44d6-a269-f62d1305cbca",
      "metadata": {
        "id": "771b9975-5bcd-44d6-a269-f62d1305cbca"
      },
      "source": [
        "## Ejercicio 2 (4 puntos)\n",
        "\n",
        "Calcular la solución $\\mathbf{x}$ del problema de mínimos cuadrados\n",
        "\n",
        "$$ \\min \\| \\mathbf{A}\\mathbf{x} - \\mathbf{b} \\|_2^2 $$\n",
        "\n",
        "usando la factorización QR de una matriz.\n",
        "\n",
        "1. Escriba una función que reciba una matriz $\\mathbf{A}$, el vector $\\mathbf{b}$\n",
        "   y la tolerancia $\\tau>0$. La función calcula la factorización QR usando\n",
        "   la función del Ejercicio 1.\n",
        "2. La función devuelve la  solución $\\mathbf{x}_1$  del problema de mínimos\n",
        "   cuadrados calculada de acuerdo con la diapositiva 2 de la Clase 21.\n",
        "3. Use las matrices $A_3$ y $A_4$ del Ejercicio 1 para  probar el algoritmo,\n",
        "   con $\\mathbf{b}$ que tiene todas sus entradas iguales a 1.\n",
        "4. Imprima las primeras y últimas componentes del vector  $\\mathbf{x}_1$\n",
        "5. Calcula la solución $\\mathbf{x}_2$ del problema de mínimos cuadrados usando la fórmula\n",
        "   \n",
        "$$ \\mathbf{A}^\\top \\mathbf{A} \\mathbf{x}_2 = \\mathbf{A}^\\top \\mathbf{b} $$\n",
        "\n",
        "6. Imprima el error $\\|\\mathbf{x}_1 - \\mathbf{x}_2 \\|$ para verificar que\n",
        "   coinciden las soluciones.\n",
        "   \n",
        "### Solución:\n",
        "   "
      ]
    },
    {
      "cell_type": "code",
      "source": [
        "## Funciones de la Tarea 4\n",
        "\n",
        "import numpy as np\n",
        "\n",
        "def backwardSubstitution(U: np.ndarray, b: np.ndarray, t):\n",
        "    d = U.shape[1] # Para matrices no cuadradas nos interesa el numero de columnas\n",
        "    res = np.zeros(d)\n",
        "    for i in reversed(range(d)):\n",
        "        sum = np.dot(res[i:], U[i, i:])\n",
        "        if abs(U[i, i]) < t:\n",
        "            print(U[i, i], t)\n",
        "            return None\n",
        "        x = (b[i] - sum)/U[i, i]\n",
        "        res[i] = x\n",
        "    return res"
      ],
      "metadata": {
        "id": "5bMiesFEqP3D"
      },
      "id": "5bMiesFEqP3D",
      "execution_count": 5,
      "outputs": []
    },
    {
      "cell_type": "code",
      "execution_count": 6,
      "id": "6fe6ef1e-34af-48fe-8a18-13607a6a2c92",
      "metadata": {
        "id": "6fe6ef1e-34af-48fe-8a18-13607a6a2c92"
      },
      "outputs": [],
      "source": [
        "# Código de la función\n",
        "import numpy as np\n",
        "\n",
        "# podemos usar backwardsustitution porque R es Upper Triangular\n",
        "def ls_qr(A:np.ndarray, b: np.ndarray, t:float):\n",
        "    Q, R = qr_givens(A)\n",
        "    x = backwardSubstitution(R, Q.T@b, t)\n",
        "    return x\n",
        "\n",
        "\n"
      ]
    },
    {
      "cell_type": "code",
      "source": [
        "# Pruebas\n",
        "def test_ls_qr(A: np.ndarray, b: np.ndarray):\n",
        "    eps = np.finfo(float).eps\n",
        "\n",
        "    # Para le matriz A3\n",
        "    x1 = ls_qr(A, b, eps)\n",
        "    x2 = np.linalg.lstsq(A, b, rcond=None)\n",
        "\n",
        "    print(f\"x1 = {x1}\", f\"||x1-x2|| = {norm(x1-x2[0])}\", sep='\\n')\n",
        "    print(\"Usando el truco A.T A x = A.T b obtenemos que:\")\n",
        "    print(f\"||x1- x2|| = {norm(x1-np.linalg.solve(A.T@A, A.T@b))}\")"
      ],
      "metadata": {
        "id": "yaxzBisUVgiU"
      },
      "id": "yaxzBisUVgiU",
      "execution_count": 7,
      "outputs": []
    },
    {
      "cell_type": "code",
      "execution_count": 8,
      "id": "55cf3300-4ba6-4d8b-8b50-630c6ac31c99",
      "metadata": {
        "colab": {
          "base_uri": "https://localhost:8080/"
        },
        "id": "55cf3300-4ba6-4d8b-8b50-630c6ac31c99",
        "outputId": "fe3da7fe-354d-4282-9963-17e3b86f8932"
      },
      "outputs": [
        {
          "output_type": "stream",
          "name": "stdout",
          "text": [
            "Para A3\n",
            "x1 = [ 0.01019281 -0.01749163 -0.16823942 -0.32273097 -0.0715259   0.23638792\n",
            " -0.05137134 -0.15842806 -0.0033877   0.07130793]\n",
            "||x1-x2|| = 7.495937657100415e-16\n",
            "Usando el truco A.T A x = A.T b obtenemos que:\n",
            "||x1- x2|| = 3.031330003775621e-16\n",
            "Para A4\n",
            "x1 = [ 0.03355378  0.01330705 -0.01973571 -0.07850015  0.00276066 -0.01567825\n",
            "  0.02628051 -0.00424231  0.01939108  0.02688731 -0.03604838 -0.01499184\n",
            "  0.05620531  0.04571636 -0.01159996 -0.03756171 -0.0108619   0.00770347\n",
            " -0.03255031 -0.0155421  -0.02451084 -0.03176701 -0.03929835 -0.09014355\n",
            " -0.0091517  -0.01471299 -0.04974389  0.04821385  0.02434659  0.00692902\n",
            "  0.01164744  0.05190751  0.0063978   0.0337241  -0.01649982  0.03403816\n",
            "  0.05693563 -0.00483791  0.01157347  0.09351066 -0.00221624 -0.01095856\n",
            " -0.01326026  0.03030159 -0.03992685 -0.00601227 -0.01838074 -0.03607218\n",
            "  0.02302453  0.01236152  0.02713527  0.053495   -0.03680839  0.02939482\n",
            "  0.00706036 -0.00013625  0.00587317 -0.05360152  0.00905734  0.02497073\n",
            " -0.11457335 -0.01915847  0.02277082  0.01712966  0.01142295 -0.02490634\n",
            " -0.00780696  0.00994454 -0.02713449 -0.04121067  0.08509076  0.01315327\n",
            " -0.0196848   0.02844983  0.05241722 -0.00539394 -0.02648388  0.01064417\n",
            "  0.0015824  -0.00382244 -0.03743758  0.06315128 -0.02095549  0.04688225\n",
            " -0.01040856  0.00303383  0.08195261  0.00509424  0.01613911  0.04183215\n",
            "  0.0113859   0.01993732 -0.03143386 -0.07619282 -0.00329295 -0.04361427\n",
            " -0.01977154  0.00308723  0.00170532 -0.02796887]\n",
            "||x1-x2|| = 1.0664589555291126e-15\n",
            "Usando el truco A.T A x = A.T b obtenemos que:\n",
            "||x1- x2|| = 9.28161189163082e-16\n"
          ]
        }
      ],
      "source": [
        "# Pruebas\n",
        "eps = np.finfo(float).eps\n",
        "\n",
        "# Para le matriz A3\n",
        "print(\"Para A3\")\n",
        "test_ls_qr(A3, np.ones(A3.shape[0]))\n",
        "\n",
        "print(\"Para A4\")\n",
        "test_ls_qr(A4, np.ones(A4.shape[0]))\n"
      ]
    },
    {
      "cell_type": "markdown",
      "source": [
        "De lo anterior podemos notar que las soluciones son muy cercanas a las\n",
        "encontradas por `numpy`."
      ],
      "metadata": {
        "id": "moe-kKzmXD0J"
      },
      "id": "moe-kKzmXD0J"
    },
    {
      "cell_type": "code",
      "execution_count": 8,
      "id": "c758b759-120c-4e5e-ad45-954f4aa96d16",
      "metadata": {
        "id": "c758b759-120c-4e5e-ad45-954f4aa96d16"
      },
      "outputs": [],
      "source": []
    }
  ],
  "metadata": {
    "kernelspec": {
      "display_name": "Python 3 (ipykernel)",
      "language": "python",
      "name": "python3"
    },
    "language_info": {
      "codemirror_mode": {
        "name": "ipython",
        "version": 3
      },
      "file_extension": ".py",
      "mimetype": "text/x-python",
      "name": "python",
      "nbconvert_exporter": "python",
      "pygments_lexer": "ipython3",
      "version": "3.9.13"
    },
    "colab": {
      "provenance": []
    }
  },
  "nbformat": 4,
  "nbformat_minor": 5
}