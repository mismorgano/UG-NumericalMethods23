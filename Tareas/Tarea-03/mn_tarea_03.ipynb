{
  "cells": [
    {
      "cell_type": "markdown",
      "id": "410ce899-6c64-4094-8e0e-5333fe213064",
      "metadata": {
        "id": "410ce899-6c64-4094-8e0e-5333fe213064"
      },
      "source": [
        "# Curso de Métodos Numéricos (DEMAT)\n",
        "# Tarea 3\n",
        "\n",
        "| Descripción:                         | Fechas                   |\n",
        "|--------------------------------------|--------------------------|\n",
        "| Fecha de publicación del documento:  | **Agosto 30, 2023**      |\n",
        "| Fecha límite de entrega de la tarea: | **Septiembre 10, 2023**  |"
      ]
    },
    {
      "cell_type": "markdown",
      "id": "05437f7a-1697-4d1a-9bb3-f61bf72c7f2d",
      "metadata": {
        "id": "05437f7a-1697-4d1a-9bb3-f61bf72c7f2d"
      },
      "source": [
        "## Indicaciones\n",
        "\n",
        "El propósito de esta tarea es poner en praćtica lo que hemos revisado\n",
        "sobre Python, por lo que los ejercicios son de programación.\n",
        "\n",
        "Puede escribir el código de los algoritmos que se piden en una\n",
        "celda de este notebook o si lo prefiere, escribir las funciones\n",
        "en un archivo `.py` independiente e importar la funciones para\n",
        "usarlas en este notebook. Lo importante es que en el notebook\n",
        "aparezcan los resultados de la pruebas realizadas y que:\n",
        "\n",
        "- Si se requieren otros archivos para poder reproducir los resultados,\n",
        "  para mandar la tarea cree un archivo ZIP en el que incluya\n",
        "  el notebook y los archivos adicionales.\n",
        "- Si todos los códigos para que se requieren para reproducir los\n",
        "  resultados están en el notebook, no hace falta comprimir el notebook\n",
        "  y puede anexar este archivo en la tarea del Classroom.\n",
        "- Exportar el notebook a un archivo PDF y anexarlo en la tarea del\n",
        "  Classroom como un archivo independiente.\n",
        "  **No incluya el PDF dentro del ZIP**, porque la idea que lo pueda accesar\n",
        "  directamente para poner anotaciones y la calificación de cada ejercicio.\n",
        "\n",
        "En la descripción de los ejercicios se nombran algunas variables\n",
        "para el algoritmo, pero sólo es para facilitar la descripción.\n",
        "En la implementación pueden nombrar sus variables como gusten.\n",
        "\n",
        "En los algoritmos se describen las entradas de las\n",
        "funciones. La intención es que tomen en cuenta lo que requiere\n",
        "el algoritmo y que tiene que haber parámetros que permitan\n",
        "controlar el comportamiento del algoritmo,\n",
        "evitando que dejen fijo un valor y que no se puede modificar\n",
        "para hacer diferentes pruebas. Si quieren dar esta información\n",
        "usando un tipo de dato que contenga todos los valores o\n",
        "usar variables por separado, etc., lo pueden hacer y no usen\n",
        "variables globales si no es necesario.\n",
        "\n",
        "Lo mismo para los valores que devuelve una función.\n",
        "Pueden codificar como gusten la manera en que regresa los cálculos.\n",
        "El punto es que podamos tener acceso a los resultados,\n",
        "sin usar variables globales, y que la función no sólo imprima\n",
        "los valores que después no los podamos usar.\n"
      ]
    },
    {
      "cell_type": "markdown",
      "id": "61b218a0-9f7a-43a0-971a-8a55510289f8",
      "metadata": {
        "id": "61b218a0-9f7a-43a0-971a-8a55510289f8"
      },
      "source": [
        "----\n",
        "\n",
        "## Ejercicio 1 ( puntos)\n",
        "\n",
        "1. Calcule la suma de los elementos del arreglo $[101.1, 101.1, 101.1, -202.2, -101.1]$,\n",
        "   sumando los elementos en el orden que tienen en el arreglo.\n",
        "   Imprima el valor de la suma.\n",
        "2. Repita lo anterior sumando los elementos en orden inverso.\n",
        "3. Programe el algoritmo de  Kahan (Clase 6, diapositiva 28).\n",
        "   La función recibe un arreglo de valores y devuelve la suma de los elementos.\n",
        "4. Calcule e imprima el valor que devuelve el algoritmo de Kahan\n",
        "   dando como entrada el arreglo delprimer inciso y ese arreglo en\n",
        "   orden inverso.\n",
        "5. Repita la prueba anterior usando el arreglo $[101.1, 101.1, 101.1, -303.3]$.\n",
        "   ¿Afecta el orden en que se suman los números en el resultado del algoritmo?\n",
        "\n",
        "\n",
        "### Solución:"
      ]
    },
    {
      "cell_type": "code",
      "execution_count": 1,
      "id": "148b0e06-9dff-45fb-aa12-64b01d446b3e",
      "metadata": {
        "tags": [],
        "id": "148b0e06-9dff-45fb-aa12-64b01d446b3e"
      },
      "outputs": [],
      "source": [
        "from IPython.lib.display import Iterable\n",
        "# Esta celda es para escribir el código de la función o importarla de un archivo\n",
        "\n",
        "def kahanSum(arr: Iterable):\n",
        "  sum = 0\n",
        "  err = 0\n",
        "  for a_k in arr:\n",
        "    y = a_k - err # aplicar correccion\n",
        "    t = sum + y # incrementar sum\n",
        "    err = (t-sum) -y # actualizar error\n",
        "    sum = t # actualizar suma\n",
        "  return sum\n",
        "\n"
      ]
    },
    {
      "cell_type": "markdown",
      "source": [
        "En este caso usaremos la función `sum` que incorpora `python`, pues\n",
        "segun la documentación suma los elemntos en un `itearable` en orden.\n",
        "Entonces para sumar en orden inverso, simplemente \"invertimos\" el orden del\n",
        "`iterable`."
      ],
      "metadata": {
        "id": "1VHOngPJTygN"
      },
      "id": "1VHOngPJTygN"
    },
    {
      "cell_type": "code",
      "execution_count": 2,
      "id": "6090096b-8cb0-449c-91be-93bd6b66d47b",
      "metadata": {
        "tags": [],
        "colab": {
          "base_uri": "https://localhost:8080/"
        },
        "id": "6090096b-8cb0-449c-91be-93bd6b66d47b",
        "outputId": "98c23652-4763-4bac-d0e3-b2f4a2745b5d"
      },
      "outputs": [
        {
          "output_type": "stream",
          "name": "stdout",
          "text": [
            "El arreglo es [101.1, 101.1, 101.1, -202.2, -101.1]\n",
            "El valor de la suma en orden es: -2.842170943040401e-14\n",
            "El valor de la suma en orden inverso es: 2.842170943040401e-14\n",
            "El valor de la suma con Kahan es: 0.0\n",
            "El valor de la suma con Kahan en orden inverso es: 0.0\n",
            "\n",
            "El arreglo es [101.1, 101.1, 101.1, -303.3]\n",
            "El valor de la suma en orden es: -5.684341886080802e-14\n",
            "El valor de la suma en orden inverso es: -2.842170943040401e-14\n",
            "El valor de la suma con Kahan es: 0.0\n",
            "El valor de la suma con Kahan en orden inverso es: -2.842170943040401e-14\n"
          ]
        }
      ],
      "source": [
        "# Pruebas\n",
        "a = [101.1,101.1,101.1,-202.2,-101.1]\n",
        "\n",
        "# Suma normal de elementos\n",
        "print(f\"El arreglo es {a}\")\n",
        "print(f\"El valor de la suma en orden es: {sum(a)}\")\n",
        "print(f\"El valor de la suma en orden inverso es: {sum(reversed(a))}\")\n",
        "\n",
        "# Suma usnado el algoritmo de Kahan\n",
        "print(f\"El valor de la suma con Kahan es: {kahanSum(a)}\")\n",
        "print(f\"El valor de la suma con Kahan en orden inverso es: {kahanSum(reversed(a))}\")\n",
        "\n",
        "print()\n",
        "\n",
        "b =   [101.1,101.1,101.1,-303.3]\n",
        "print(f\"El arreglo es {b}\")\n",
        "print(f\"El valor de la suma en orden es: {sum(b)}\")\n",
        "print(f\"El valor de la suma en orden inverso es: {sum(reversed(b))}\")\n",
        "\n",
        "# Suma usnado el algoritmo de Kahan\n",
        "print(f\"El valor de la suma con Kahan es: {kahanSum(b)}\")\n",
        "print(f\"El valor de la suma con Kahan en orden inverso es: {kahanSum(reversed(b))}\")\n"
      ]
    },
    {
      "cell_type": "markdown",
      "source": [
        "De lo anterior podemos notar que el orden de los elementos a la hora de sumar\n",
        "si afecta la suma."
      ],
      "metadata": {
        "id": "uf4rUyJvT72G"
      },
      "id": "uf4rUyJvT72G"
    },
    {
      "cell_type": "markdown",
      "id": "572eb4cf-a163-41d7-8765-869b13af1b02",
      "metadata": {
        "id": "572eb4cf-a163-41d7-8765-869b13af1b02"
      },
      "source": [
        "_\n",
        "\n",
        "```\n",
        "\n",
        "\n",
        "\n",
        "\n",
        "\n",
        "\n",
        "\n",
        "```\n",
        "\n",
        "---"
      ]
    },
    {
      "cell_type": "markdown",
      "id": "af314e30-52b3-4894-8ea2-c6ba937ebdcc",
      "metadata": {
        "id": "af314e30-52b3-4894-8ea2-c6ba937ebdcc"
      },
      "source": [
        "## Ejercicio 2 ( puntos)\n",
        "\n",
        "Considere la función $f(x) = x + \\ln \\sqrt{x} - 2.5$. Verique que\n",
        "la función $g(x) = 2.5 - \\ln \\sqrt{x}$ cumple con las condiciones\n",
        "del teorema de punto fijo en el intervalo $I=[1,3]$, de modo que puede\n",
        "usarse para encontrar una raíz de $f(x)$.\n",
        "\n",
        "Estime el número de iteraciones\n",
        "que requiere el algoritmo de punto fijo para aproximar a la raíz\n",
        "de $f(x)$ con un error menor a $10^{-6}$, partiendo de cualquier\n",
        "punto en el intervalo $I$.\n",
        "\n",
        "### Solución:"
      ]
    },
    {
      "cell_type": "markdown",
      "id": "89156b47-cd8c-4de5-92c8-d5600f416634",
      "metadata": {
        "id": "89156b47-cd8c-4de5-92c8-d5600f416634"
      },
      "source": [
        "Primero notemos que $g$ es continua, pues composición de funciones continuas (en el intervalo $[1, 3]$).\n",
        "Sea $x\\in [1, 3]$, entonces $1\\le x\\le 3$, lo cual implica que $1\\le \\sqrt{x} \\le \\sqrt{3}$, luego $0 \\le \\ln \\sqrt{x}\\le \\ln \\sqrt{3}$, como $\\sqrt{3} = e^\n",
        "{1/2\\ln 3}$ entonces $\\ln \\sqrt{3} = 1/2\\ln 3 ≈ 0.54$.\n",
        "De lo anterior tenemos que $-0.54 \\le - \\ln \\sqrt{x} \\le 0$ y por tanto\n",
        "$1.95 \\le 2.5 - \\ln \\sqrt{x} \\le 2.5$, es decir, $g(x) \\in [1, 3]$.\n",
        "\n",
        "Más aún, notemos que\n",
        "$$\n",
        "  g'(x) = -\\frac{1}{\\sqrt{x}}\\frac{1}{2}\\frac{1}{\\sqrt{x}} = -\\frac{1}{2x} \\implies |g'(x)| = \\frac{1}{2x}.\n",
        "$$\n",
        "Si $x\\in [1, 3]$ entonces $1/2 \\ge 1/2x \\ge 1/6$, por lo cual $g$ tiene un unico  punto fijo.\n",
        "\n",
        "En la demostración del Teorema vimos lo siguiente:\n",
        "$$\n",
        "  |x_{n+1} -x^*| \\le \\rho^{n+1} |x_0 - x^*|,\n",
        "$$\n",
        "entonces tenemos que $\\rho = 1/2$, la maxima distancia entre un punto inical y el punto fijo es $3-1 = 2$, por lo cual buscamos $n$ tal que\n",
        "$$\n",
        "  |x_{n+1} -x^*|\\le \\left(\\frac{1}{2}\\right)^{n+1}(2) = \\left(\\frac{1}{2}\\right)^n\\le 10^{-6},\n",
        "$$\n",
        "para ello notemos que\n",
        "$$\n",
        "  \\begin{aligned}\n",
        "    \\left(\\frac{1}{2}\\right)^{n}\\le 10^{-6} &\\iff  \\frac{1}{2^{n}} \\le \\frac{1}{10^6}\\\\\n",
        "    &\\iff 10^6\\le 2^{n}\\\\\n",
        "    &\\iff \\log_2(10^6)\\le n,\n",
        "  \\end{aligned}\n",
        "$$\n",
        "como $\\log_2(10^6) = 19.9$, tenemos que el minimo que cumple es $n=20$, por lo cual con $x_{21}$ obtenemos la presición deseada, es decir, en la $21$ iteración.\n"
      ]
    },
    {
      "cell_type": "markdown",
      "id": "25b03075-c676-402a-8512-4af294f2dbcc",
      "metadata": {
        "id": "25b03075-c676-402a-8512-4af294f2dbcc"
      },
      "source": [
        "_\n",
        "\n",
        "```\n",
        "\n",
        "\n",
        "\n",
        "\n",
        "\n",
        "\n",
        "\n",
        "```\n",
        "\n",
        "---"
      ]
    },
    {
      "cell_type": "markdown",
      "id": "8cb4b53d-8b91-4bf6-8e95-115f26e7e7b1",
      "metadata": {
        "id": "8cb4b53d-8b91-4bf6-8e95-115f26e7e7b1"
      },
      "source": [
        "## Ejercicio 3 ( puntos)\n",
        "\n",
        "Programar y probar el método de  Newton-Raphson.\n",
        "\n",
        "1. Escriba la función correspondiente a este algoritmo, la cual debe recibir como parámetros\n",
        "\n",
        "- La función $f$ a la que se le quiere calcular una raíz.\n",
        "- La derivada de $f$\n",
        "- El punto inicial $x_0$\n",
        "- El valor de la tolerancia $\\tau$\n",
        "- El máximo número $N$ de iteraciones para el algoritmo\n",
        "\n",
        "2. La información que debe devolver la función que implementa el algoritmo es:\n",
        "\n",
        "- El último punto $x_k$ que genera el algoritmo\n",
        "- El valor $f(x_k)$\n",
        "- El número $k$ de iteraciones realizadas\n",
        "- Una variable $res$ que indica la condición\n",
        "  en la que terminó el algoritmo: $res=0$ si $|f(x_k)|<\\tau$,\n",
        "  $res=1$ si el algoritmo termina porque se alcanzó el número de iteraciones.\n",
        "\n",
        "3. Prueba la implementación del algoritmo usando las siguientes\n",
        "   funciones, con N=1000 y  una tolerancia $\\tau = \\sqrt(\\epsilon_m)$, donde\n",
        "   $\\epsilon_m$ es el épsilon de la máquina.\n",
        "\n",
        "- $f(x) = e^{2x} - x - 6$, con $x_0=3 $.\n",
        "- $f(x) = 3\\cos(3\\pi x) - 4x$, con $x_0=-0.75$.\n",
        "- $f(x) = \\arctan x$, con $x_0=0.5$.\n",
        "- $f(x) = \\arctan x$, con $x_0=2$.\n",
        "\n",
        "4. En cada caso haga imprima los datos:\n",
        "$$ x_0, \\quad f(x_0), \\quad k, \\quad x_k, \\quad f(x_k), \\quad res$$\n",
        "\n",
        "\n",
        "### Solución:"
      ]
    },
    {
      "cell_type": "code",
      "execution_count": 3,
      "id": "d0c8bc44-62e2-4338-ac93-759b7fa6fa30",
      "metadata": {
        "id": "d0c8bc44-62e2-4338-ac93-759b7fa6fa30",
        "tags": []
      },
      "outputs": [],
      "source": [
        "# Esta celda es para escribir el código de la función o importarla de un archivo\n",
        "\n",
        "def newthon_raphson(f, f_p, x0, err, N):\n",
        "  xk = x0\n",
        "  for i in range(N):\n",
        "    if abs(f(xk)) < err:\n",
        "      return xk, f(xk), i+1, 0\n",
        "    fk_p = f_p(xk)\n",
        "    if fk_p != 0:\n",
        "      xk = xk - f(xk)/fk_p\n",
        "  return xk, f(xk), N, 1"
      ]
    },
    {
      "cell_type": "code",
      "execution_count": 4,
      "id": "ccf04816-c7bd-474d-be1f-f5bb03e276bb",
      "metadata": {
        "id": "ccf04816-c7bd-474d-be1f-f5bb03e276bb",
        "tags": []
      },
      "outputs": [],
      "source": [
        "# Pruebas de la función\n",
        "import numpy as np\n",
        "N = 1000\n",
        "err = np.finfo(float).eps\n",
        "err = np.sqrt(err)\n"
      ]
    },
    {
      "cell_type": "markdown",
      "source": [
        "## $f(x) = e^{2x}-x-6$, con x0 = 3"
      ],
      "metadata": {
        "id": "N07Xwa9InJAb"
      },
      "id": "N07Xwa9InJAb"
    },
    {
      "cell_type": "code",
      "source": [
        "f = lambda x: np.exp(2*x) - x-6\n",
        "f_p = lambda x: 2*np.exp(2*x)-1\n",
        "x0 = 3\n",
        "(xk, fxk, k, res) = newthon_raphson(f, f_p, x0, err, N)\n",
        "print(f\"x0 = {x0}, f(x0) = {f(x0)}, k = {k}, xk = {xk}, f(xk) = {fxk}, res = {res}\")"
      ],
      "metadata": {
        "colab": {
          "base_uri": "https://localhost:8080/"
        },
        "id": "wwFQGOC9nken",
        "outputId": "f6cdcb77-e88b-47aa-807a-e2d1e4e1bfe2"
      },
      "id": "wwFQGOC9nken",
      "execution_count": 5,
      "outputs": [
        {
          "output_type": "stream",
          "name": "stdout",
          "text": [
            "x0 = 3, f(x0) = 394.4287934927351, k = 9, xk = 0.9708700208593961, f(xk) = 7.552745984185094e-09, res = 0\n"
          ]
        }
      ]
    },
    {
      "cell_type": "markdown",
      "source": [
        "## $f(x)= 3\\cos(3\\pi x) - 4x$, con $x_0=-0.75$."
      ],
      "metadata": {
        "id": "jgel27floEuk"
      },
      "id": "jgel27floEuk"
    },
    {
      "cell_type": "code",
      "source": [
        "f = lambda x: 3*np.cos(3*np.pi*x) - 4*x\n",
        "f_p = lambda x: -9*np.pi*np.sin(3*np.pi*x) -4\n",
        "x0 = -0.75\n",
        "(xk, fxk, k, res) = newthon_raphson(f, f_p, x0, err, N)\n",
        "print(f\"x0 = {x0}, f(x0) = {f(x0)}, k = {k}, xk = {xk}, f(xk) = {fxk}, res = {res}\")"
      ],
      "metadata": {
        "colab": {
          "base_uri": "https://localhost:8080/"
        },
        "id": "eZycxCbSoKTG",
        "outputId": "6d70ca7f-ee80-4ecb-8e43-4e0774e226a1"
      },
      "id": "eZycxCbSoKTG",
      "execution_count": 6,
      "outputs": [
        {
          "output_type": "stream",
          "name": "stdout",
          "text": [
            "x0 = -0.75, f(x0) = 5.121320343559643, k = 252, xk = -0.1945011025300539, f(xk) = 1.7494832249553838e-09, res = 0\n"
          ]
        }
      ]
    },
    {
      "cell_type": "markdown",
      "source": [
        "## $f(x) = \\arctan x$, con $x_0=0.5$"
      ],
      "metadata": {
        "id": "aBJdckVRrd2W"
      },
      "id": "aBJdckVRrd2W"
    },
    {
      "cell_type": "code",
      "source": [
        "f = lambda x: np.arctan(x)\n",
        "f_p = lambda x: 1/(1+x**2)\n",
        "x0 = 0.5\n",
        "(xk, fxk, k, res) = newthon_raphson(f, f_p, x0, err, N)\n",
        "print(f\"x0 = {x0}, f(x0) = {f(x0)}, k = {k}, xk = {xk}, f(xk) = {fxk}, res = {res}\")"
      ],
      "metadata": {
        "colab": {
          "base_uri": "https://localhost:8080/"
        },
        "id": "pqNgA0uwri-e",
        "outputId": "b07f83b0-bdc2-4283-9dce-1ea4bf840855"
      },
      "id": "pqNgA0uwri-e",
      "execution_count": 7,
      "outputs": [
        {
          "output_type": "stream",
          "name": "stdout",
          "text": [
            "x0 = 0.5, f(x0) = 0.4636476090008061, k = 4, xk = -2.5131473616567257e-11, f(xk) = -2.5131473616567257e-11, res = 0\n"
          ]
        }
      ]
    },
    {
      "cell_type": "markdown",
      "source": [
        "## $f(x) = \\arctan x$, con $x_0=2$."
      ],
      "metadata": {
        "id": "GtSZN4ETsjg2"
      },
      "id": "GtSZN4ETsjg2"
    },
    {
      "cell_type": "code",
      "source": [
        "f = lambda x: np.arctan(x)\n",
        "f_p = lambda x: 1/(1+x**2)\n",
        "x0 = 2\n",
        "(xk, fxk, k, res) = newthon_raphson(f, f_p, x0, err, N)\n",
        "print(f\"x0 = {x0}, f(x0) = {f(x0)}, k = {k}, xk = {xk}, f(xk) = {fxk}, res = {res}\")"
      ],
      "metadata": {
        "colab": {
          "base_uri": "https://localhost:8080/"
        },
        "id": "i_OfOWa_spiL",
        "outputId": "156bafab-a949-4b16-c203-536a1e381378"
      },
      "id": "i_OfOWa_spiL",
      "execution_count": 8,
      "outputs": [
        {
          "output_type": "stream",
          "name": "stdout",
          "text": [
            "x0 = 2, f(x0) = 1.1071487177940904, k = 1000, xk = -6.9999433953175654e+168, f(xk) = -1.5707963267948966, res = 1\n"
          ]
        },
        {
          "output_type": "stream",
          "name": "stderr",
          "text": [
            "<ipython-input-8-76cca78a3562>:2: RuntimeWarning: overflow encountered in double_scalars\n",
            "  f_p = lambda x: 1/(1+x**2)\n"
          ]
        }
      ]
    }
  ],
  "metadata": {
    "colab": {
      "provenance": []
    },
    "kernelspec": {
      "display_name": "Python 3 (ipykernel)",
      "language": "python",
      "name": "python3"
    },
    "language_info": {
      "codemirror_mode": {
        "name": "ipython",
        "version": 3
      },
      "file_extension": ".py",
      "mimetype": "text/x-python",
      "name": "python",
      "nbconvert_exporter": "python",
      "pygments_lexer": "ipython3",
      "version": "3.10.9"
    }
  },
  "nbformat": 4,
  "nbformat_minor": 5
}