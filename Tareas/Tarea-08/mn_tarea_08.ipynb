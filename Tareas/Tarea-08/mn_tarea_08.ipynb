{
  "cells": [
    {
      "cell_type": "markdown",
      "id": "1b1b6d25-9f98-4fe8-9776-d52a6636db52",
      "metadata": {
        "id": "1b1b6d25-9f98-4fe8-9776-d52a6636db52"
      },
      "source": [
        "# Curso de Métodos Numéricos (DEMAT)\n",
        "# Tarea 8\n",
        "\n",
        "| Descripción:                         | Fechas                  |\n",
        "|--------------------------------------|-------------------------|\n",
        "| Fecha de publicación del documento:  | **Octubre 14, 2023**    |\n",
        "| Fecha límite de entrega de la tarea: | **Octubre 23, 2023**    |"
      ]
    },
    {
      "cell_type": "markdown",
      "id": "99979691-8bb2-4ed8-8f48-8b048d6c8917",
      "metadata": {
        "id": "99979691-8bb2-4ed8-8f48-8b048d6c8917"
      },
      "source": [
        "## Indicaciones\n",
        "\n",
        "Puede escribir el código de los algoritmos que se piden en una\n",
        "celda de este notebook o si lo prefiere, escribir las funciones\n",
        "en un archivo `.py` independiente e importar la funciones para\n",
        "usarlas en este notebook. Lo importante es que en el notebook\n",
        "aparezcan los resultados de la pruebas realizadas y que:\n",
        "\n",
        "- Si se requieren otros archivos para poder reproducir los resultados,\n",
        "  para mandar la tarea cree un archivo ZIP en el que **incluya\n",
        "  el notebook** y los archivos adicionales.\n",
        "- Si todos los códigos que se requieren para reproducir los\n",
        "  resultados están en el notebook, no hace falta comprimir el notebook\n",
        "  y puede anexar este archivo en la tarea del Classroom.\n",
        "- Exportar el notebook a un archivo PDF y anexarlo en la tarea del\n",
        "  Classroom como un archivo independiente.\n",
        "  **No incluya el PDF dentro del ZIP**, porque la idea que lo pueda accesar\n",
        "  directamente para poner anotaciones y la calificación de cada ejercicio."
      ]
    },
    {
      "cell_type": "markdown",
      "id": "732e56b3-e2d5-4986-8ad6-70aa7e32d006",
      "metadata": {
        "id": "732e56b3-e2d5-4986-8ad6-70aa7e32d006"
      },
      "source": [
        "---"
      ]
    },
    {
      "cell_type": "markdown",
      "id": "e0e2f3a1-5e82-491e-b478-330a7249136e",
      "metadata": {
        "id": "e0e2f3a1-5e82-491e-b478-330a7249136e"
      },
      "source": [
        "## Ejercicio 1 (4 puntos)\n",
        "\n",
        "1. Escriba una función que devuelva los intervalos\n",
        "   que contienen a los eigenvalores de una matriz de acuerdo al Teorema\n",
        "   de los círculos de Gershgorin.\n",
        "\n",
        "- La función recibe como entrada una matriz cuadrada $\\mathbf{A}=[a_{ij}]$.\n",
        "- Si $n$ es el tamaño de la matriz, cree un arreglo  $G$ de tamaño $n \\times 2$.\n",
        "  En cada fila del arreglo $G$ guarde los extremos de los intervalos,\n",
        "  que acuerdo con el teorema, para cada $i=1,2,...,n$\n",
        "  los intervalos están dados por\n",
        "\n",
        "$$ [a_{ii} - s_i, \\; a_{ii} + s_i] $$\n",
        "\n",
        "  donde\n",
        "   \n",
        "$$  s_i = \\min\\{r_i, c_i\\} \\quad \\text{y} \\quad\n",
        "    r_i = \\sum_{j=1\\atop j\\ne i}^n |a_{ij}|, \\quad\n",
        "    c_i = \\sum_{j=1\\atop j\\ne i}^n |a_{ji}|.\n",
        "$$\n",
        "\n",
        "- De este modo, en la primera columna de $G$ se almacenan los\n",
        "  valores $a_{ii} - s_i$ y en la segunda columna los valores\n",
        "  $a_{ii} + s_i$.\n",
        "\n",
        "- La función devuelve el arreglo $G$.\n",
        "\n",
        "2. En las siguientes celdas se dan dos matrices que se vieron\n",
        "   en los ejemplos B y C de la Clase 17.\n",
        "   Aplique la función anterior a esas matrices, imprima las\n",
        "   matrices $G$. Puede revisar estos resultados están correctos\n",
        "   viendo las gráficas de la diapositiva 15 de la Clase 17.\n",
        "\n",
        "### Solución."
      ]
    },
    {
      "cell_type": "code",
      "execution_count": 99,
      "id": "6b7b4a29-67e7-424a-b818-35a2c1bad5d2",
      "metadata": {
        "id": "6b7b4a29-67e7-424a-b818-35a2c1bad5d2"
      },
      "outputs": [],
      "source": [
        "# Codigo de la función\n",
        "import numpy as np\n",
        "\n",
        "def gershgorinRadius(A: np.ndarray):\n",
        "    return (min(np.sum(np.abs(A[i, :])), np.sum(np.abs(A[:, i]))) - np.abs(A[i, i]) for i in range(A.shape[0]))\n",
        "\n",
        "def gershgorinIntervals(A: np.ndarray):\n",
        "\n",
        "    # intervals = ([A[i, i]-r, A[i, i]+r] for i, r in enumerate(gershgorinRadius(A)))\n",
        "\n",
        "    # return np.array([[A[i, i] -(s := (min(np.sum(np.abs(A[i, :])), np.sum(np.abs(A[:, i]))) - np.abs(A[i, i])) ), A[i, i] + s] for i in range(A.shape[0])] )\n",
        "    # return np.fromiter(intervals, dtype=np.dtype((float, 2)))\n",
        "    return np.array([[A[i, i]-r, A[i, i]+r] for i, r in enumerate(gershgorinRadius(A))])\n",
        "\n"
      ]
    },
    {
      "cell_type": "code",
      "source": [
        "# Unas pruebas para medir la eficiencia de ciertas implementaciones\n",
        "\n",
        "from IPython.utils.path import random\n",
        "\n",
        "%timeit gershgorinIntervals(np.random.random((3, 3)))\n",
        "%timeit (lambda A: np.array([[A[i, i] -(s := (min(np.sum(np.abs(A[i, :])), np.sum(np.abs(A[:, i]))) - np.abs(A[i, i])) ), A[i, i] + s] for i in range(A.shape[0])] ))(np.random.random((3, 3)))\n",
        "# np.random.random((3, 3))"
      ],
      "metadata": {
        "id": "v-uOICfrgXYb",
        "outputId": "259eee3d-6744-4498-ae98-0fd3308d8ef8",
        "colab": {
          "base_uri": "https://localhost:8080/"
        }
      },
      "id": "v-uOICfrgXYb",
      "execution_count": 100,
      "outputs": [
        {
          "output_type": "stream",
          "name": "stdout",
          "text": [
            "47.6 µs ± 7.72 µs per loop (mean ± std. dev. of 7 runs, 10000 loops each)\n",
            "41.5 µs ± 9.29 µs per loop (mean ± std. dev. of 7 runs, 10000 loops each)\n"
          ]
        }
      ]
    },
    {
      "cell_type": "code",
      "execution_count": 101,
      "id": "a3412217-a334-4f8d-8a7a-3d8e390d4cb2",
      "metadata": {
        "id": "a3412217-a334-4f8d-8a7a-3d8e390d4cb2"
      },
      "outputs": [],
      "source": [
        "# Datos de prueba\n",
        "import numpy as np\n",
        "\n",
        "B = np.array([[ 5.0,  -0.10,  0.90,   1.00,    0.40],\n",
        "              [-0.5,   1.45, -0.05,   0.00,    0.25],\n",
        "              [ 0.2,   0.05,  1.13,   0.10,    0.35],\n",
        "              [ 1.6,  -0.25,  0.50,   1.00,    0.30],\n",
        "              [ 1.4,   0.40,  0.20,   0.25,   -0.80]])\n",
        "\n",
        "C = np.array([[ 4.6023708,  -0.6484326,   2.6800333,   0.1378698,   0.3655997],\n",
        "              [-0.3480484,  -4.9229298,   0.0876574,  -1.2066205,  -1.2046782],\n",
        "              [ 1.0992412,   0.0206325,  -4.2138133,  -0.3166074,  -1.3973391],\n",
        "              [ 0.5966447,   2.3193512,  -2.5578133,   4.6455689,  -0.1206493],\n",
        "              [-0.0702810,  -1.8568523,   0.7597306,  -0.1774737,   4.4888034]])\n"
      ]
    },
    {
      "cell_type": "code",
      "execution_count": 102,
      "id": "7738ebf7-086e-4ae7-bf06-c14517a038bf",
      "metadata": {
        "id": "7738ebf7-086e-4ae7-bf06-c14517a038bf",
        "outputId": "4b83021b-b7bc-4480-f495-5e7bc6503984",
        "colab": {
          "base_uri": "https://localhost:8080/"
        }
      },
      "outputs": [
        {
          "output_type": "execute_result",
          "data": {
            "text/plain": [
              "(array([[ 2.6 ,  7.4 ],\n",
              "        [ 0.65,  2.25],\n",
              "        [ 0.43,  1.83],\n",
              "        [-0.35,  2.35],\n",
              "        [-2.1 ,  0.5 ]]),\n",
              " array([[ 2.4881555,  6.7165861],\n",
              "        [-7.7699343, -2.0759253],\n",
              "        [-7.0476335, -1.3799931],\n",
              "        [ 2.8069975,  6.4841403],\n",
              "        [ 1.6244658,  7.353141 ]]))"
            ]
          },
          "metadata": {},
          "execution_count": 102
        }
      ],
      "source": [
        "# Pruebas\n",
        "\n",
        "gershgorinIntervals(B), gershgorinIntervals(C)"
      ]
    },
    {
      "cell_type": "markdown",
      "source": [
        "De hecho podemos graficar los circulos"
      ],
      "metadata": {
        "id": "UkiOv-jpsVay"
      },
      "id": "UkiOv-jpsVay"
    },
    {
      "cell_type": "code",
      "source": [
        "# Circulos para el caso de B\n",
        "import matplotlib.pyplot as plt\n",
        "from matplotlib.patches import Circle\n",
        "from matplotlib.collections import PatchCollection\n",
        "\n",
        "fig, ax = plt.subplots(layout=\"constrained\")\n",
        "centers = B.diagonal()\n",
        "\n",
        "circles = [Circle((x, 0), r) for x, r in zip(centers, gershgorinRadius(B))]\n",
        "p = PatchCollection(circles, alpha=0.4)\n",
        "ax.add_collection(p)\n",
        "ax.scatter(centers, np.zeros(centers.size), color=\"red\")\n",
        "ax.set_aspect(1)\n",
        "ax.autoscale()\n",
        "\n",
        "# fig.tight_layout()\n",
        "# fig.show()\n"
      ],
      "metadata": {
        "id": "kp4SGaz1sZKM",
        "outputId": "97eeb639-80fe-4cf1-864d-783f35c1bb59",
        "colab": {
          "base_uri": "https://localhost:8080/",
          "height": 364
        }
      },
      "id": "kp4SGaz1sZKM",
      "execution_count": 103,
      "outputs": [
        {
          "output_type": "display_data",
          "data": {
            "text/plain": [
              "<Figure size 640x480 with 1 Axes>"
            ],
            "image/png": "[encoded data removed]"
          },
          "metadata": {}
        }
      ]
    },
    {
      "cell_type": "code",
      "source": [
        "\n",
        "fig, ax = plt.subplots(layout=\"constrained\")\n",
        "centers = C.diagonal()\n",
        "\n",
        "circles = [Circle((x, 0), r) for x, r in zip(centers, gershgorinRadius(C))]\n",
        "p = PatchCollection(circles, alpha=0.4)\n",
        "ax.add_collection(p)\n",
        "ax.scatter(centers, np.zeros(centers.size), color=\"red\")\n",
        "ax.set_aspect(1)\n",
        "ax.autoscale()"
      ],
      "metadata": {
        "id": "pKUwhBdY1J1B",
        "outputId": "b3f5733e-5b61-4434-d0d3-d160ef677dbd",
        "colab": {
          "base_uri": "https://localhost:8080/",
          "height": 288
        }
      },
      "id": "pKUwhBdY1J1B",
      "execution_count": 104,
      "outputs": [
        {
          "output_type": "display_data",
          "data": {
            "text/plain": [
              "<Figure size 640x480 with 1 Axes>"
            ],
            "image/png": "[encoded data removed]"
          },
          "metadata": {}
        }
      ]
    },
    {
      "cell_type": "markdown",
      "id": "b742628b-f634-48c4-a47a-af311e4d1192",
      "metadata": {
        "id": "b742628b-f634-48c4-a47a-af311e4d1192"
      },
      "source": [
        "_ _\n",
        "\n",
        "```\n",
        "\n",
        "\n",
        "\n",
        "\n",
        "\n",
        "\n",
        "\n",
        "```\n",
        "\n",
        "---"
      ]
    },
    {
      "cell_type": "markdown",
      "id": "e5159c99-907d-410b-b182-b45cbefaaf56",
      "metadata": {
        "id": "e5159c99-907d-410b-b182-b45cbefaaf56"
      },
      "source": [
        "## Ejercicio 2 (6 puntos)\n",
        "\n",
        "1. Programe el método de la potencia inversa con desplazamiento.\n",
        "\n",
        "**Entradas de la función:**\n",
        "- una matriz cuadrada $\\mathbf{A}=[a_{ij}]$,\n",
        "- un vector inicial  $\\mathbf{x}^{(0)}$,\n",
        "- el desplazamiento $\\delta$,\n",
        "- el número máximo de iteraciones $N$ y\n",
        "- una tolerancia $\\tau>0$.\n",
        "\n",
        "**Salida de la función:**\n",
        "- $\\mu$,\n",
        "- $\\mathbf{x}^{(k)}$,\n",
        "- el número de iteraciones realizadas $k$,\n",
        "- el valor del error $\\|\\mathbf{r}\\|$ y\n",
        "- una variable $res$ que indica si\n",
        "  $(\\mu, \\mathbf{x}^{(k)})$ se puede considerar que es un eigenpar\n",
        "  de la matriz  $\\mathbf{A}$ o no.\n",
        "  \n",
        "**Algoritmo:**\n",
        "\n",
        "1. Iniciar $res=False$\n",
        "2. Definir $n$ como el tamaño de la matriz\n",
        "3. Para $k=0,1,...,N-1$, calcular lo siguiente\n",
        "\n",
        "- Resolver el sistema  $(\\mathbf{A} - \\delta\\mathbf{I})\\mathbf{y} = \\mathbf{x}^{(k)}$\n",
        "- $\\hat{x} = \\mathbf{y}/\\|\\mathbf{y}\\|$\n",
        "- $\\mathbf{w} = \\mathbf{x}^{(k)}/\\|\\mathbf{y}\\|$\n",
        "- $\\rho   = \\hat{x}^\\top \\mathbf{w}$\n",
        "- $\\mu = \\delta + \\rho $\n",
        "- $\\mathbf{r} = \\mathbf{w} - \\rho \\hat{x}$\n",
        "- Si $\\|\\mathbf{r}\\| < \\tau$, hacer $res=True$ y terminar las iteraciones\n",
        "- En caso contrario, hacer\n",
        "\n",
        "$$\\mathbf{x}^{(k+1)} = \\hat{x} $$\n",
        "\n",
        "4. Devolver $\\mu, \\mathbf{x}^{(k)}, k, \\|\\mathbf{r}\\|, res$\n",
        "\n",
        "**Nota:**\n",
        "Como la matriz $\\mathbf{A}$ es genérica, para resolver el sistema\n",
        "de ecuaciones use un método general, como factorización LU.\n",
        "Puede usar la implementación que hizo en una tarea o usar\n",
        "alguna de las implementaciones de la librería de Python."
      ]
    },
    {
      "cell_type": "markdown",
      "id": "61bc4bd9-4528-46c5-ae1b-6984f5bddbe3",
      "metadata": {
        "id": "61bc4bd9-4528-46c5-ae1b-6984f5bddbe3"
      },
      "source": []
    },
    {
      "cell_type": "markdown",
      "id": "71c051d7-af62-4198-af0c-061d37bc3a5e",
      "metadata": {
        "id": "71c051d7-af62-4198-af0c-061d37bc3a5e"
      },
      "source": [
        "2. Escriba una función que reciba como entrada una matriz\n",
        "   cuadrada $\\mathbf{A}$ e imprima los resultados de aplicar\n",
        "   el algoritmo anterior de acuerdo con las siguientes indicaciones:\n",
        "   \n",
        "- Use la función del Ejercicio 1 para obtener la matriz  $\\mathbf{G}=[g_{ij}]$\n",
        "- Para cada $i=1,...,n$, donde $n$ es el tamaño de la matriz $\\mathbf{A}$,\n",
        "  use el algoritmo del método de la potencia inversa\n",
        "  usado como vector inicial $\\mathbf{x}^{(0)}=(1,1,...,1)$.\n",
        "  Pruebe dos los extremos del intervalo $g_{i1}$ y $g_{i2}$ para\n",
        "  dar valor al desplazamiento $\\delta$\n",
        "- Cada vez que use el algoritmo del metodo de la potencia inversa\n",
        "  imprima los valores $\\delta, \\mu, k, \\|\\mathbf{r}\\|, res$ para\n",
        "  ver si el algoritmo convergió y $\\mu$ es un eigenvalor de $\\mathbf{A}$.\n",
        "- Use como cantidad máxima de iteraciones $N=200$ y una\n",
        "  tolerancia $\\tau = \\sqrt{\\epsilon_m}$, donde $\\epsilon_m$\n",
        "  es el épsilon de la máquina.\n",
        "  \n",
        "3. Pruebe el algoritmo con las matrices B y C del Ejercicio 1.\n",
        "\n",
        "### Solución:"
      ]
    },
    {
      "cell_type": "code",
      "execution_count": 105,
      "id": "ce9d3ab8-c0c1-41fc-8519-71535c0407b3",
      "metadata": {
        "id": "ce9d3ab8-c0c1-41fc-8519-71535c0407b3"
      },
      "outputs": [],
      "source": [
        "# Código de las funciones\n",
        "import numpy as np\n",
        "from numpy.linalg import norm\n",
        "\n",
        "def potenciaInversa(A:np.ndarray, x0: np.ndarray, delta:float, N:int, t:float):\n",
        "    res = False\n",
        "    n = A.shape[0]\n",
        "    I = np.identity(n)\n",
        "    for k in range(N):\n",
        "        y = np.linalg.solve(A-delta*I, x0)\n",
        "        x = y/norm(y)\n",
        "        w = x0/norm(y)\n",
        "        p = np.dot(x, w)\n",
        "        mu = delta + p\n",
        "        r = w - p*x\n",
        "        if norm(r) < t:\n",
        "            res = True\n",
        "            break\n",
        "        x0 = x\n",
        "    return mu, x0, k, norm(r), res\n",
        "\n",
        "def eigenPars(A: np.ndarray):\n",
        "    \"\"\"Find eigen par using the ends of the Gershgorin Intervals\"\"\"\n",
        "    G = gershgorinIntervals(A)\n",
        "    n = A.shape[0]\n",
        "    N = 200\n",
        "    t = np.finfo(float).eps**(1/2)\n",
        "    for g1, g2 in G:\n",
        "        x0 = np.ones(n)\n",
        "        mu,_,k, r, res = potenciaInversa(A, x0, g1, N, t)\n",
        "        print(f\"delta={g1} mu={mu} k={k}, norm(r) = {r} res={res}\")\n",
        "        # print(g1, mu, k, r, res)\n",
        "        mu,_,k, r, res = potenciaInversa(A, x0, g2, N, t)\n",
        "        print(f\"delta={g2} mu={mu} k={k}, norm(r) = {r} res={res}\")\n",
        "        print()\n",
        "\n"
      ]
    },
    {
      "cell_type": "code",
      "source": [],
      "metadata": {
        "id": "33kzCVKLHC_H"
      },
      "id": "33kzCVKLHC_H",
      "execution_count": 105,
      "outputs": []
    },
    {
      "cell_type": "code",
      "execution_count": 106,
      "id": "680a4920-d31c-412b-a202-e1fd7463d350",
      "metadata": {
        "id": "680a4920-d31c-412b-a202-e1fd7463d350",
        "outputId": "a59e9952-ca11-4962-f3b6-bba45a8947e8",
        "colab": {
          "base_uri": "https://localhost:8080/"
        }
      },
      "outputs": [
        {
          "output_type": "stream",
          "name": "stdout",
          "text": [
            "Prueba para la matriz B\n",
            "delta=2.5999999999999996 mu=1.4849196055447549 k=50, norm(r) = 1.1772620872917967e-08 res=True\n",
            "delta=7.4 mu=5.547927880895997 k=16, norm(r) = 1.0778921069854087e-08 res=True\n",
            "\n",
            "delta=0.6499999999999999 mu=0.6370983598960425 k=5, norm(r) = 5.569488636103395e-10 res=True\n",
            "delta=2.25 mu=1.4849196055522693 k=36, norm(r) = 1.3515355441631014e-08 res=True\n",
            "\n",
            "delta=0.4299999999999997 mu=0.6370983638112927 k=15, norm(r) = 1.1550347035524296e-08 res=True\n",
            "delta=1.83 mu=1.484919605530602 k=20, norm(r) = 8.362295109546087e-09 res=True\n",
            "\n",
            "delta=-0.3500000000000001 mu=-0.9419583093378409 k=36, norm(r) = 9.407812143164632e-09 res=True\n",
            "delta=2.35 mu=1.484919605549739 k=40, norm(r) = 1.2930745821140111e-08 res=True\n",
            "\n",
            "delta=-2.1 mu=-0.9419583122319337 k=21, norm(r) = 9.571754164300273e-09 res=True\n",
            "delta=0.5 mu=0.6370983621664509 k=12, norm(r) = 6.929387396881803e-09 res=True\n",
            "\n",
            "Prueba para la matriz C\n",
            "delta=2.4881555000000013 mu=4.400000014235818 k=164, norm(r) = 1.4817214669762984e-08 res=True\n",
            "delta=6.716586099999999 mu=5.000000004329342 k=77, norm(r) = 1.23374549871236e-08 res=True\n",
            "\n",
            "delta=-7.769934300000001 mu=-4.899999991131457 k=125, norm(r) = 1.4521511820899594e-08 res=True\n",
            "delta=-2.0759252999999998 mu=-4.500000027512591 k=116, norm(r) = 1.3849025724051754e-08 res=True\n",
            "\n",
            "delta=-7.0476335 mu=-4.899999991124064 k=96, norm(r) = 1.2791313219821174e-08 res=True\n",
            "delta=-1.3799931 mu=-4.5000000275116 k=147, norm(r) = 1.408096075202889e-08 res=True\n",
            "\n",
            "delta=2.8069974999999996 mu=4.4000000142853315 k=138, norm(r) = 1.4476245342622796e-08 res=True\n",
            "delta=6.4841403 mu=5.0000000041151775 k=67, norm(r) = 1.3787670056398335e-08 res=True\n",
            "\n",
            "delta=1.6244657999999994 mu=4.399999990166419 k=199, norm(r) = 1.8056771907192463e-07 res=False\n",
            "delta=7.353141000000001 mu=5.000000003996735 k=102, norm(r) = 1.4599447307272606e-08 res=True\n",
            "\n"
          ]
        }
      ],
      "source": [
        "# Pruebas\n",
        "\n",
        "print(\"Prueba para la matriz B\")\n",
        "eigenPars(B)\n",
        "\n",
        "print(\"Prueba para la matriz C\")\n",
        "eigenPars(C)\n",
        "\n",
        "\n"
      ]
    },
    {
      "cell_type": "markdown",
      "source": [
        "Notemos que tomamos los extremos del intervalo como $δ$, sin embargo veamos que pasa si not tomamos los puntos medios del centro de la circunferencia a los extremos"
      ],
      "metadata": {
        "id": "C8TymKccTkFM"
      },
      "id": "C8TymKccTkFM"
    },
    {
      "cell_type": "code",
      "source": [
        "def eigenParsM(A: np.ndarray):\n",
        "\n",
        "    radius = [r/2 for r in gershgorinRadius(A)]\n",
        "    centers = A.diagonal()\n",
        "    G = ((c-r, c+r) for c, r in zip(centers, radius))\n",
        "    n = A.shape[0]\n",
        "    N = 200\n",
        "    t = np.finfo(float).eps**(1/2)\n",
        "    for g1, g2 in G:\n",
        "        x0 = np.ones(n)\n",
        "        mu,_,k, r, res = potenciaInversa(A, x0, g1, N, t)\n",
        "        print(f\"delta={g1} mu={mu} k={k}, norm(r) = {r} res={res}\")\n",
        "        # print(g1, mu, k, r, res)\n",
        "        mu,_,k, r, res = potenciaInversa(A, x0, g2, N, t)\n",
        "        print(f\"delta={g2} mu={mu} k={k}, norm(r) = {r} res={res}\")\n",
        "        print()"
      ],
      "metadata": {
        "id": "-mLAHVnzT5HL"
      },
      "id": "-mLAHVnzT5HL",
      "execution_count": 107,
      "outputs": []
    },
    {
      "cell_type": "code",
      "source": [
        "## Pruebas\n",
        "eigenParsM(B)\n",
        "eigenParsM(C)"
      ],
      "metadata": {
        "id": "36w8A2mPVgi8",
        "outputId": "a666d32f-bd5a-4fe3-b99c-f26756057d97",
        "colab": {
          "base_uri": "https://localhost:8080/"
        }
      },
      "id": "36w8A2mPVgi8",
      "execution_count": 108,
      "outputs": [
        {
          "output_type": "stream",
          "name": "stdout",
          "text": [
            "delta=3.8 mu=5.54792788088942 k=69, norm(r) = 1.1523435995761692e-08 res=True\n",
            "delta=6.2 mu=5.547927880831577 k=9, norm(r) = 1.0401406287347476e-08 res=True\n",
            "\n",
            "delta=1.0499999999999998 mu=1.0520124657827337 k=3, norm(r) = 4.750219926290405e-10 res=True\n",
            "delta=1.85 mu=1.4849196055260503 k=21, norm(r) = 7.329122496596186e-09 res=True\n",
            "\n",
            "delta=0.7799999999999998 mu=0.6370983546078117 k=26, norm(r) = 1.4342392197463419e-08 res=True\n",
            "delta=1.48 mu=1.4849196056159828 k=3, norm(r) = 3.926556763899308e-09 res=True\n",
            "\n",
            "delta=0.32499999999999996 mu=0.6370983631998479 k=20, norm(r) = 9.823452873092928e-09 res=True\n",
            "delta=1.675 mu=1.4849196055549945 k=13, norm(r) = 1.3151693081119195e-08 res=True\n",
            "\n",
            "delta=-1.4500000000000002 mu=-0.9419583114041101 k=13, norm(r) = 4.123024875357416e-09 res=True\n",
            "delta=-0.15000000000000002 mu=0.5670910292659588 k=199, norm(r) = 0.45931054173297836 res=False\n",
            "\n",
            "delta=3.5452631500000007 mu=4.400000014614534 k=78, norm(r) = 1.2209255440907088e-08 res=True\n",
            "delta=5.65947845 mu=5.000000004734609 k=34, norm(r) = 9.56206778812609e-09 res=True\n",
            "\n",
            "delta=-6.346432050000001 mu=-4.899999991122177 k=67, norm(r) = 1.2349885799355335e-08 res=True\n",
            "delta=-3.49942755 mu=-4.500000027509858 k=52, norm(r) = 1.4488633485597165e-08 res=True\n",
            "\n",
            "delta=-5.6307234 mu=-4.899999991122847 k=37, norm(r) = 1.2506478052859114e-08 res=True\n",
            "delta=-2.7969032 mu=-4.500000027516165 k=84, norm(r) = 1.3012370119080853e-08 res=True\n",
            "\n",
            "delta=3.7262831999999997 mu=4.400000014661057 k=63, norm(r) = 1.1888882406547949e-08 res=True\n",
            "delta=5.5648546 mu=5.000000004740239 k=30, norm(r) = 9.515131191485153e-09 res=True\n",
            "\n",
            "delta=3.0566345999999998 mu=4.400000014439241 k=118, norm(r) = 1.3416375838945597e-08 res=True\n",
            "delta=5.9209722000000005 mu=5.00000000412117 k=44, norm(r) = 1.3730812281708198e-08 res=True\n",
            "\n"
          ]
        }
      ]
    },
    {
      "cell_type": "markdown",
      "source": [
        "Realmente no veo una mejoria, incluso en un caso fue peor"
      ],
      "metadata": {
        "id": "OmjmKjdPVclv"
      },
      "id": "OmjmKjdPVclv"
    }
  ],
  "metadata": {
    "kernelspec": {
      "display_name": "Python 3 (ipykernel)",
      "language": "python",
      "name": "python3"
    },
    "language_info": {
      "codemirror_mode": {
        "name": "ipython",
        "version": 3
      },
      "file_extension": ".py",
      "mimetype": "text/x-python",
      "name": "python",
      "nbconvert_exporter": "python",
      "pygments_lexer": "ipython3",
      "version": "3.10.9"
    },
    "colab": {
      "provenance": []
    }
  },
  "nbformat": 4,
  "nbformat_minor": 5
}