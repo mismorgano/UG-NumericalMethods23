{
  "cells": [
    {
      "cell_type": "markdown",
      "id": "a53bc7ea-f1f9-452c-a0da-27f852b72920",
      "metadata": {
        "id": "a53bc7ea-f1f9-452c-a0da-27f852b72920"
      },
      "source": [
        "# Curso de Métodos Numéricos (DEMAT)\n",
        "# Tarea 4\n",
        "\n",
        "| Descripción:                         | Fechas                   |\n",
        "|--------------------------------------|--------------------------|\n",
        "| Fecha de publicación del documento:  | **Septiembre 10, 2023**  |\n",
        "| Fecha límite de entrega de la tarea: | **Septiembre 17, 2023**  |"
      ]
    },
    {
      "cell_type": "markdown",
      "id": "4e554590-fc64-4c98-8b19-3fa527a00f1d",
      "metadata": {
        "id": "4e554590-fc64-4c98-8b19-3fa527a00f1d"
      },
      "source": [
        "## Indicaciones\n",
        "\n",
        "Puede escribir el código de los algoritmos que se piden en una\n",
        "celda de este notebook o si lo prefiere, escribir las funciones\n",
        "en un archivo `.py` independiente e importar la funciones para\n",
        "usarlas en este notebook. Lo importante es que en el notebook\n",
        "aparezcan los resultados de la pruebas realizadas y que:\n",
        "\n",
        "- Si se requieren otros archivos para poder reproducir los resultados,\n",
        "  para mandar la tarea cree un archivo ZIP en el que incluya\n",
        "  el notebook y los archivos adicionales.\n",
        "- Si todos los códigos para que se requieren para reproducir los\n",
        "  resultados están en el notebook, no hace falta comprimir el notebook\n",
        "  y puede anexar este archivo en la tarea del Classroom.\n",
        "- Exportar el notebook a un archivo PDF y anexarlo en la tarea del\n",
        "  Classroom como un archivo independiente.\n",
        "  **No incluya el PDF dentro del ZIP**, porque la idea que lo pueda accesar\n",
        "  directamente para poner anotaciones y la calificación de cada ejercicio.\n"
      ]
    },
    {
      "cell_type": "markdown",
      "id": "8fa1f300-58be-49c4-8d11-d8c66f42fbc6",
      "metadata": {
        "id": "8fa1f300-58be-49c4-8d11-d8c66f42fbc6"
      },
      "source": [
        "----\n",
        "\n",
        "## Ejercicio 1 (5 puntos)\n",
        "\n",
        "Calcular la solución de sistemas con matrices triangulares inferiores.\n",
        "\n",
        "1. Programar la función  ``forwardSubstitution`` que aplica el método de\n",
        "   sustitución hacia adelante para resolver el sistema $\\mathbf{L}\\mathbf{x} = \\mathbf{b}$,\n",
        "   donde $\\mathbf{L}$ es una matriz triangular inferior.\n",
        "\n",
        "**Entradas de la función:**\n",
        "    \n",
        "- La matriz $\\mathbf{L}$,\n",
        "- El arreglo $\\mathbf{b}$ y\n",
        "- una tolerancia $\\tau$ para prevenir la división entre un número muy pequeño.\n",
        "\n",
        "**Salida de la función:**\n",
        "    \n",
        "- El arreglo $\\mathbf{x}$ que es solución del sistema si el algoritmo termina\n",
        "  exitósamente o **None** si no se pudo calcular la solución.\n",
        "    \n",
        "2. Escriba una función que reciba como parámetros los nombres de\n",
        "   dos archivos ``npy`` de Numpy, uno que tiene la información de\n",
        "   una matriz triangular inferior $\\mathbf{L}$\n",
        "   y el otro con la información del vector de términos independientes $\\mathbf{b}$.\n",
        "   \n",
        "   Haga que esta función lea la información de los archivos usando la función\n",
        "   [numpy.load()](https://numpy.org/doc/stable/reference/generated/numpy.load.html).\n",
        "\n",
        "   Cree la matriz $\\mathbf{L}$ y el vector $\\mathbf{b}$ y que imprima  \n",
        "   el tamaño de la matriz y el tamaño del vector $\\mathbf{b}$.\n",
        "\n",
        "   Llame a la función ``forwardSubstitution`` para resolver el sistema\n",
        "   $\\mathbf{L}\\mathbf{x} = \\mathbf{b}$,\n",
        "   usando como tolerancia $\\tau = \\epsilon_m^{2/3}$, donde $\\epsilon_m$ es el épsilon máquina.\n",
        "   Si el sistema tuvo solución, imprima los primeros y últimos **3 elementos**\n",
        "   del vector solución. En caso contrario, imprima el mensaje de\n",
        "   que el sistema no tiene solución única.\n",
        "   \n",
        "   Imprima el valor del error $\\|\\mathbf{L}\\mathbf{x} - \\mathbf{b}\\|$ si existe la solución.\n",
        "   En caso contrario, haga que la función imprima un mensaje que\n",
        "   indique que la matriz es singular.\n",
        "    \n",
        "3. Pruebe la función del punto anterior usando los datos del archivo ``datosTarea04.zip``,\n",
        "   usando las parejas de archivos:\n",
        "   \n",
        "| Matriz      | Vector          |\n",
        "|-------------|-----------------|\n",
        "| matL006     |  vecb005        |\n",
        "| matL010     |  vecb010        |\n",
        "| matL015     |  vecb015        |\n",
        "| matL020     |  vecb020        |\n",
        "| matL050     |  vecb050        |\n",
        "| matL500     |  vecb500        |\n",
        "\n",
        "### Solución:"
      ]
    },
    {
      "cell_type": "code",
      "execution_count": 1,
      "id": "68446787-3ddc-4781-a3ba-0b1e05a5da95",
      "metadata": {
        "id": "68446787-3ddc-4781-a3ba-0b1e05a5da95"
      },
      "outputs": [],
      "source": [
        "# Celda es para escribir el código de la función o importarla de un archivo\n",
        "import numpy as np\n",
        "\n",
        "def forwardSubstitution(L: np.ndarray, b: np.ndarray, t):\n",
        "  d = L.shape[0]\n",
        "  res = np.zeros(d)\n",
        "  for i in range(d):\n",
        "    sum = np.dot(res[:i], L[i, :i])\n",
        "    if np.abs(L[i, i]) <= t:\n",
        "        print(L[i, i])\n",
        "        return None\n",
        "    x = (b[i] - sum)/L[i, i]\n",
        "    res[i] = x\n",
        "\n",
        "  return res\n"
      ]
    },
    {
      "cell_type": "code",
      "source": [
        "def l_factorization(mat, vec):\n",
        "    L = np.load(mat)\n",
        "    b = np.load(vec)\n",
        "    print(f\"Tamaño de la matriz {L.shape}\", f\"Tamaño del vector {b.shape}\", sep='\\n')\n",
        "    eps = np.finfo(float).eps\n",
        "    x = forwardSubstitution(L, b, eps**(2/3))\n",
        "    if x is not None:\n",
        "        print(f\"{x[:3]} {x[-3:]}\")\n",
        "        print(np.linalg.norm(np.matmul(L, x)-b))\n",
        "    else:\n",
        "        print(\"El sistema no tuvo solucion unica\")"
      ],
      "metadata": {
        "id": "SKODePzlg7iJ"
      },
      "id": "SKODePzlg7iJ",
      "execution_count": 2,
      "outputs": []
    },
    {
      "cell_type": "code",
      "source": [
        "# files information\n",
        "files = ['006', '010', '015', '020', '050', '500']\n",
        "files_path = \"/content\""
      ],
      "metadata": {
        "id": "2Gb_Dcs0t60C"
      },
      "id": "2Gb_Dcs0t60C",
      "execution_count": 3,
      "outputs": []
    },
    {
      "cell_type": "code",
      "source": [
        "np.load(f\"{files_path}/matL{files[2]}.npy\")"
      ],
      "metadata": {
        "id": "b_Sv5-Qk09ti",
        "outputId": "26125f4b-0938-44fb-e029-c45e729de579",
        "colab": {
          "base_uri": "https://localhost:8080/"
        }
      },
      "id": "b_Sv5-Qk09ti",
      "execution_count": 4,
      "outputs": [
        {
          "output_type": "execute_result",
          "data": {
            "text/plain": [
              "array([[ 1.  ,  0.  ,  0.  ,  0.  ,  0.  ,  0.  ,  0.  ,  0.  ,  0.  ,\n",
              "         0.  ,  0.  ,  0.  ,  0.  ,  0.  ,  0.  ],\n",
              "       [ 0.22,  1.  ,  0.  ,  0.  ,  0.  ,  0.  ,  0.  ,  0.  ,  0.  ,\n",
              "         0.  ,  0.  ,  0.  ,  0.  ,  0.  ,  0.  ],\n",
              "       [-0.26,  0.57,  1.  ,  0.  ,  0.  ,  0.  ,  0.  ,  0.  ,  0.  ,\n",
              "         0.  ,  0.  ,  0.  ,  0.  ,  0.  ,  0.  ],\n",
              "       [-0.99,  0.11, -0.55,  1.  ,  0.  ,  0.  ,  0.  ,  0.  ,  0.  ,\n",
              "         0.  ,  0.  ,  0.  ,  0.  ,  0.  ,  0.  ],\n",
              "       [ 0.05, -0.13,  0.46, -0.15,  1.  ,  0.  ,  0.  ,  0.  ,  0.  ,\n",
              "         0.  ,  0.  ,  0.  ,  0.  ,  0.  ,  0.  ],\n",
              "       [ 0.21, -0.18, -0.34,  0.09, -0.11,  1.  ,  0.  ,  0.  ,  0.  ,\n",
              "         0.  ,  0.  ,  0.  ,  0.  ,  0.  ,  0.  ],\n",
              "       [-0.33,  0.15,  0.31, -0.1 ,  0.38, -0.95,  1.  ,  0.  ,  0.  ,\n",
              "         0.  ,  0.  ,  0.  ,  0.  ,  0.  ,  0.  ],\n",
              "       [ 0.4 ,  0.28, -0.62,  0.13, -0.13, -0.71,  0.45,  1.  ,  0.  ,\n",
              "         0.  ,  0.  ,  0.  ,  0.  ,  0.  ,  0.  ],\n",
              "       [-0.83,  0.81,  0.57,  0.13, -0.06,  0.3 , -0.58, -0.38,  1.  ,\n",
              "         0.  ,  0.  ,  0.  ,  0.  ,  0.  ,  0.  ],\n",
              "       [-0.12,  0.57, -0.59,  0.54, -0.62, -0.86,  0.24,  0.83, -0.2 ,\n",
              "         1.  ,  0.  ,  0.  ,  0.  ,  0.  ,  0.  ],\n",
              "       [-0.06, -0.56, -0.05,  0.29, -0.41,  0.5 , -0.97,  0.42,  0.08,\n",
              "         0.4 ,  1.  ,  0.  ,  0.  ,  0.  ,  0.  ],\n",
              "       [ 0.14,  0.32, -0.06,  0.48, -0.33,  0.75, -0.94,  0.1 ,  0.31,\n",
              "         0.01, -0.06,  1.  ,  0.  ,  0.  ,  0.  ],\n",
              "       [-0.71, -0.34,  0.17,  0.01, -0.36,  0.11, -0.32, -0.26,  0.67,\n",
              "         0.06, -0.18,  0.6 ,  1.  ,  0.  ,  0.  ],\n",
              "       [-0.71,  0.53,  0.78, -0.14,  0.06, -0.49, -0.5 , -0.51,  0.7 ,\n",
              "         0.43,  0.49,  0.41,  0.59,  0.  ,  0.  ],\n",
              "       [-0.61, -0.35, -0.69, -0.21, -0.46, -0.63,  0.13, -0.08,  0.45,\n",
              "         0.44, -0.42, -0.37,  0.79, -0.1 ,  1.  ]])"
            ]
          },
          "metadata": {},
          "execution_count": 4
        }
      ]
    },
    {
      "cell_type": "code",
      "execution_count": 5,
      "id": "d98cd268-8fe0-4d92-9ab0-c3d89036393a",
      "metadata": {
        "id": "d98cd268-8fe0-4d92-9ab0-c3d89036393a",
        "outputId": "48cf1d53-ff82-4971-9d52-c645e124d41f",
        "colab": {
          "base_uri": "https://localhost:8080/"
        }
      },
      "outputs": [
        {
          "output_type": "stream",
          "name": "stdout",
          "text": [
            "Tamaño de la matriz (6, 6)\n",
            "Tamaño del vector (6,)\n",
            "[ 2.97  0.15 -8.5 ] [-11.15  -6.36 -12.47]\n",
            "8.881784197001252e-16\n",
            "\n",
            "Tamaño de la matriz (10, 10)\n",
            "Tamaño del vector (10,)\n",
            "[-0.19 -2.35 -0.57] [-17.41  -9.55  -8.55]\n",
            "4.070144838902081e-15\n",
            "\n",
            "Tamaño de la matriz (15, 15)\n",
            "Tamaño del vector (15,)\n",
            "0.0\n",
            "El sistema no tuvo solucion unica\n",
            "\n",
            "Tamaño de la matriz (20, 20)\n",
            "Tamaño del vector (20,)\n",
            "0.0\n",
            "El sistema no tuvo solucion unica\n",
            "\n",
            "Tamaño de la matriz (50, 50)\n",
            "Tamaño del vector (50,)\n",
            "[-5.18  1.31  8.58] [-4.59  7.08  2.14]\n",
            "1.9870200881297512e-14\n",
            "\n",
            "Tamaño de la matriz (500, 500)\n",
            "Tamaño del vector (500,)\n",
            "[-18.57   6.34  -5.31] [-8.45  4.03 -5.64]\n",
            "4.503930018820819e-13\n",
            "\n"
          ]
        }
      ],
      "source": [
        "# Pruebas\n",
        "L_matrices = (f\"{files_path}/matL{file}.npy\" for file in files)\n",
        "vectores = (f\"{files_path}/vecb{file}.npy\" for file in files)\n",
        "\n",
        "for Lm, b in zip(L_matrices, vectores):\n",
        "    l_factorization(Lm, b)\n",
        "    print(\"\")\n",
        "\n"
      ]
    },
    {
      "cell_type": "markdown",
      "id": "1143e20d-cb15-4162-822f-d96ef2e3af76",
      "metadata": {
        "id": "1143e20d-cb15-4162-822f-d96ef2e3af76"
      },
      "source": [
        "_\n",
        "\n",
        "```\n",
        "\n",
        "\n",
        "\n",
        "\n",
        "\n",
        "\n",
        "\n",
        "```\n",
        "\n",
        "---"
      ]
    },
    {
      "cell_type": "markdown",
      "id": "ea7f2609-fdd7-4778-9aa3-8ec14b195dae",
      "metadata": {
        "id": "ea7f2609-fdd7-4778-9aa3-8ec14b195dae"
      },
      "source": [
        "## Ejercicio 2 (5 puntos)\n",
        "\n",
        "Calcular la solución de sistemas con matrices triangulares superiores.\n",
        "\n",
        "1. Programar la función  ``backwardSubstitution`` que aplica el método de\n",
        "   sustitución hacia atrás para resolver el sistema $\\mathbf{U}\\mathbf{x} = \\mathbf{b}$,\n",
        "   donde $\\mathbf{U}$ es una matriz triangular superior.\n",
        "\n",
        "**Entradas de la función:**\n",
        "    \n",
        "- La matriz $\\mathbf{U}$,\n",
        "- El arreglo $\\mathbf{b}$ y\n",
        "- una tolerancia $\\tau$ para prevenir la división entre un número muy pequeño.\n",
        "\n",
        "**Salida de la función:**\n",
        "    \n",
        "- El arreglo $\\mathbf{x}$ que es solución del sistema si el algoritmo termina\n",
        "  exitósamente o None si no se pudo calcular la solución.\n",
        "\n",
        "2. Análogamente al ejercicio 2,\n",
        "   escriba un programa para resolver el sistema  $\\mathbf{U}\\mathbf{x} = \\mathbf{b}$\n",
        "   siguiendo las mismas indicaciones y pruebe el programa\n",
        "   usando los datos del archivo ``datosTarea05.zip`` con las\n",
        "   siguiente parejas de archivos:\n",
        "   \n",
        "\n",
        "| Matriz      | Vector          |\n",
        "|-------------|-----------------|\n",
        "| matU006     |  vecb005        |\n",
        "| matU010     |  vecb010        |\n",
        "| matU015     |  vecb015        |\n",
        "| matU020     |  vecb020        |\n",
        "| matU050     |  vecb050        |\n",
        "| matU500     |  vecb500        |\n",
        "\n",
        "### Solución:"
      ]
    },
    {
      "cell_type": "code",
      "execution_count": 6,
      "id": "aa87ab15-c2b6-4626-9550-6581ece3d3d9",
      "metadata": {
        "id": "aa87ab15-c2b6-4626-9550-6581ece3d3d9"
      },
      "outputs": [],
      "source": [
        "# Celda es para escribir el código de la función o importarla de un archivo\n",
        "import numpy as np\n",
        "\n",
        "def backwardSubstitution(U: np.ndarray, b: np.ndarray, t):\n",
        "    d = U.shape[0]\n",
        "    res = np.zeros(d)\n",
        "    for i in reversed(range(d)):\n",
        "        sum = np.dot(res[i:], U[i, i:])\n",
        "        if abs(U[i, i]) < t:\n",
        "            print(U[i, i], t)\n",
        "            return None\n",
        "        x = (b[i] - sum)/U[i, i]\n",
        "        res[i] = x\n",
        "    return res\n",
        "\n"
      ]
    },
    {
      "cell_type": "code",
      "source": [
        "def u_factorization(mat, vec):\n",
        "    U = np.load(mat)\n",
        "    b = np.load(vec)\n",
        "    print(f\"Tamaño de la matriz {U.shape}\", f\"Tamaño del vector {b.shape}\", sep='\\n')\n",
        "    eps = np.finfo(float).eps\n",
        "    x = backwardSubstitution(U, b, eps**(2/3))\n",
        "    if x is not None:\n",
        "        print(f\"{x[:3]} {x[-3:]}\")\n",
        "        print(np.linalg.norm(np.matmul(U, x)-b))\n",
        "    else:\n",
        "        print(\"El sistema no tuvo solucion unica\")"
      ],
      "metadata": {
        "id": "bWXeAmO1hGq3"
      },
      "id": "bWXeAmO1hGq3",
      "execution_count": 7,
      "outputs": []
    },
    {
      "cell_type": "code",
      "execution_count": 8,
      "id": "db8eb029-e3a4-4360-b343-cb5346d0b55f",
      "metadata": {
        "id": "db8eb029-e3a4-4360-b343-cb5346d0b55f",
        "outputId": "bafe4bd7-9e85-4403-fb44-1f0a5169d929",
        "colab": {
          "base_uri": "https://localhost:8080/"
        }
      },
      "outputs": [
        {
          "output_type": "stream",
          "name": "stdout",
          "text": [
            "Tamaño de la matriz (6, 6)\n",
            "Tamaño del vector (6,)\n",
            "[ 0.06129878  0.5384223  -0.72786399] [-1.18093464  0.71851093 -2.17089474]\n",
            "2.0350724194510405e-15\n",
            "\n",
            "Tamaño de la matriz (10, 10)\n",
            "Tamaño del vector (10,)\n",
            "[ 1.16781739 -3.1711499  -0.81257694] [ 0.87963772  1.59334807 -0.43604688]\n",
            "1.6001179613975517e-14\n",
            "\n",
            "Tamaño de la matriz (15, 15)\n",
            "Tamaño del vector (15,)\n",
            "[0.52227684 1.6381038  0.80245709] [-0.91354608 -0.08254994  0.48933034]\n",
            "1.7004905926528295e-14\n",
            "\n",
            "Tamaño de la matriz (20, 20)\n",
            "Tamaño del vector (20,)\n",
            "0.0 3.666852862501036e-11\n",
            "El sistema no tuvo solucion unica\n",
            "\n",
            "Tamaño de la matriz (50, 50)\n",
            "Tamaño del vector (50,)\n",
            "0.0 3.666852862501036e-11\n",
            "El sistema no tuvo solucion unica\n",
            "\n",
            "Tamaño de la matriz (500, 500)\n",
            "Tamaño del vector (500,)\n",
            "[ 4.85663989  3.34824432 -0.6369946 ] [0.543548   0.23729909 0.37602499]\n",
            "1.313194945433668e-11\n",
            "\n"
          ]
        }
      ],
      "source": [
        "# Pruebas\n",
        "U_matrices = (f\"{files_path}/matU{file}.npy\" for file in files)\n",
        "vectores = (f\"{files_path}/vecb{file}.npy\" for file in files)\n",
        "\n",
        "for Um, b in zip(U_matrices, vectores):\n",
        "\n",
        "    u_factorization(Um, b)\n",
        "    print()\n",
        "\n"
      ]
    },
    {
      "cell_type": "markdown",
      "id": "c55cc44e-7399-4f47-b315-7e3ae3d76156",
      "metadata": {
        "id": "c55cc44e-7399-4f47-b315-7e3ae3d76156"
      },
      "source": [
        "_\n",
        "\n",
        "```\n",
        "\n",
        "\n",
        "\n",
        "\n",
        "\n",
        "\n",
        "\n",
        "```\n",
        "\n",
        "---"
      ]
    },
    {
      "cell_type": "code",
      "execution_count": 8,
      "id": "99ca5a62-e417-40e0-ad36-be034d942d97",
      "metadata": {
        "id": "99ca5a62-e417-40e0-ad36-be034d942d97"
      },
      "outputs": [],
      "source": []
    }
  ],
  "metadata": {
    "kernelspec": {
      "display_name": "Python 3 (ipykernel)",
      "language": "python",
      "name": "python3"
    },
    "language_info": {
      "codemirror_mode": {
        "name": "ipython",
        "version": 3
      },
      "file_extension": ".py",
      "mimetype": "text/x-python",
      "name": "python",
      "nbconvert_exporter": "python",
      "pygments_lexer": "ipython3",
      "version": "3.9.13"
    },
    "colab": {
      "provenance": []
    }
  },
  "nbformat": 4,
  "nbformat_minor": 5
}