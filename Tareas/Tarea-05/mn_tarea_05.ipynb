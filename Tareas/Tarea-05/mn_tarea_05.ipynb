{
  "cells": [
    {
      "cell_type": "markdown",
      "id": "f1a57c0c-5945-4594-9dc0-cc06fe11954e",
      "metadata": {
        "id": "f1a57c0c-5945-4594-9dc0-cc06fe11954e"
      },
      "source": [
        "# Curso de Métodos Numéricos (DEMAT)\n",
        "# Tarea 5\n",
        "\n",
        "| Descripción:                         | Fechas                  |\n",
        "|--------------------------------------|-------------------------|\n",
        "| Fecha de publicación del documento:  | **Septiembre 16, 2023** |\n",
        "| Fecha límite de entrega de la tarea: | **Septiembre 24, 2023** |"
      ]
    },
    {
      "cell_type": "markdown",
      "id": "f9207073-074f-4979-85a9-b651a083e084",
      "metadata": {
        "id": "f9207073-074f-4979-85a9-b651a083e084"
      },
      "source": [
        "## Indicaciones\n",
        "\n",
        "Puede escribir el código de los algoritmos que se piden en una\n",
        "celda de este notebook o si lo prefiere, escribir las funciones\n",
        "en un archivo `.py` independiente e importar la funciones para\n",
        "usarlas en este notebook. Lo importante es que en el notebook\n",
        "aparezcan los resultados de la pruebas realizadas y que:\n",
        "\n",
        "- Si se requieren otros archivos para poder reproducir los resultados,\n",
        "  para mandar la tarea cree un archivo ZIP en el que **incluya\n",
        "  el notebook** y los archivos adicionales.\n",
        "- Si todos los códigos que se requieren para reproducir los\n",
        "  resultados están en el notebook, no hace falta comprimir el notebook\n",
        "  y puede anexar este archivo en la tarea del Classroom.\n",
        "- Exportar el notebook a un archivo PDF y anexarlo en la tarea del\n",
        "  Classroom como un archivo independiente.\n",
        "  **No incluya el PDF dentro del ZIP**, porque la idea que lo pueda accesar\n",
        "  directamente para poner anotaciones y la calificación de cada ejercicio.\n"
      ]
    },
    {
      "cell_type": "markdown",
      "id": "d6260777-fc27-4bc0-8f02-ce1b218f8129",
      "metadata": {
        "id": "d6260777-fc27-4bc0-8f02-ce1b218f8129"
      },
      "source": [
        "----\n",
        "\n",
        "## Ejercicio 1 (5 puntos)\n",
        "\n",
        "En el algoritmo de eliminación Gaussiana vimos que se puede ver\n",
        "como ir premultiplicando a la matriz $\\mathbf{A}$ del sistema de ecuaciones por\n",
        "matrices triangulares inferiores elementales de la forma:\n",
        "\n",
        "$$ \\mathbf{L}_{k} = \\left[ \\begin{array}{rrrrrrrrrr}\n",
        "1      & 0      & \\cdots &   0         & 0          & 0      & \\cdots & \\cdots &  0 & 0  \\\\\n",
        "0      & 1      &        &   0         & 0          & 0      & \\cdots & \\cdots &  0 & 0 \\\\\n",
        "\\vdots &        & \\ddots &             & \\vdots     & \\vdots &       &        &  \\vdots  &  \\vdots  \\\\\n",
        "\\vdots &        &        &   \\ddots    & \\vdots     & \\vdots &       &        &  \\vdots  &  \\vdots  \\\\\n",
        "0      & 0      & \\cdots &   0         & 1          & 0      & \\cdots & \\cdots &  0 & 0 \\\\\n",
        "0      & 0      & \\cdots &   0         & -l_{k+1,k} & 1      &        &        &  0 & 0  \\\\\n",
        "\\vdots & \\vdots &        &   \\vdots    & \\vdots     &        & \\ddots &        &    &  \\vdots \\\\\n",
        "\\vdots & \\vdots &        &   \\vdots    & \\vdots     &        &        & \\ddots &   &  \\vdots \\\\\n",
        "0      & 0      & \\cdots &   0         & -l_{n-1,k} & 0      &        &        & 1 & 0 \\\\\n",
        "0      & 0      & \\cdots &   0         & -l_{n,k}   & 0      & \\cdots & \\cdots & 0 & 1 \\\\\n",
        "\\end{array} \\right],\n",
        "$$\n",
        "\n",
        "$$ l_{ik} = \\frac{a_{ik}^{(k-1)}}{a_{kk}^{(k-1)}}, \\;\\; i=k+1, k+2, ..., n,$$\n",
        "\n",
        "donde $a_{ij}^{(k-1)}$ son los elementos de la matriz  \n",
        "$\\mathbf{A}^{(k-1)} = \\mathbf{L}_{k-1} \\cdots \\mathbf{L}_{1} \\mathbf{A}$.\n",
        "\n",
        "Note que $\\mathbf{L}_{k} = \\mathbf{I} - \\mathbf{l}_{k}\\mathbf{e}_{k}^\\top$, donde $\\mathbf{I}$ es la matriz\n",
        "identidad de tamaño $n$, con el vector\n",
        "$\\mathbf{l}_{k} = (0, 0,  ..., 0, l_{k+1,k}, l_{k+2,k}, ..., l_{n,k})^\\top$ y\n",
        "$\\mathbf{e}_{k}$ es el k-ésimo vector canónico con un $1$ en la posición k-ésima.\n",
        "\n",
        "\n",
        "1. Muestre que la inversa de $\\mathbf{L}_{k}$ es $\\mathbf{L}_{k}^{-1} = \\mathbf{I} +  \\mathbf{l}_{k}\\mathbf{e}_{k}^\\top$.\n",
        "   Así, la inversa de una matriz triangular inferior elemental es otra matriz triangular inferior\n",
        "   elemental.\n",
        "2. Muestre que $\\mathbf{L}_{k-1}^{-1}\\mathbf{L}_{k}^{-1} =  \\mathbf{I} + \\mathbf{l}_{k-1}\\mathbf{e}_{k-1}^\\top + \\mathbf{l}_{k}\\mathbf{e}_{k}^\\top$,\n",
        "   y a partir de esto, muestre que\n",
        "   \n",
        "$$ \\mathbf{L} = \\mathbf{L}_{1}^{-1} \\mathbf{L}_{2}^{-1} \\cdots \\mathbf{L}_{n-1}^{-1} =\n",
        "\\mathbf{I} + \\sum_{k=1}^{n-1} \\mathbf{l}_{k}\\mathbf{e}_{k}^\\top,$$\n",
        "\n",
        "   por lo que $\\mathbf{L}$ es una matriz triangular inferior con $1's$ en la diagonal.\n",
        "\n",
        "\n",
        "\n",
        "### Solución:\n",
        "\n",
        "Puede escribir la solución en la celda o escribir el desarrollo en papel y\n",
        "tomar fotos y agregarlas al notebook. Sólo asegúrese que se vea clara la respuesta\n",
        "en las fotos.\n",
        "\n"
      ]
    },
    {
      "cell_type": "markdown",
      "id": "83bbe871-13f6-486a-bbfd-ffcbf07c3f15",
      "metadata": {
        "id": "83bbe871-13f6-486a-bbfd-ffcbf07c3f15"
      },
      "source": [
        "\n",
        "\n",
        "\n",
        "\n",
        "\n",
        "\n"
      ]
    },
    {
      "cell_type": "markdown",
      "source": [
        "$\\newcommand{L}{\\mathbf{L}}$\n",
        "$\\newcommand{l}{\\mathbf{l}}$\n",
        "$\\newcommand{I}{\\mathbf{I}}$\n",
        "$\\newcommand{e}{\\mathbf{e}}$\n"
      ],
      "metadata": {
        "id": "jlkghy8nyz_e"
      },
      "id": "jlkghy8nyz_e"
    },
    {
      "cell_type": "markdown",
      "id": "adf8f2a8-38d9-4f73-a1fc-06074091a85f",
      "metadata": {
        "id": "adf8f2a8-38d9-4f73-a1fc-06074091a85f"
      },
      "source": [
        "1. Notemos que  que\n",
        "   $$\n",
        "    \\L_k (\\I + \\l_k\\e_k^\\top) = (\\I - \\l_k\\e_k^\\top)(\\I + \\l_k\\e_k^\\top) = \\I^2 +\\l_k\\e_k^\\top -\\l_k\\e_k^\\top - (\\l_k\\e_k^\\top)^2 = \\I - (\\l_k\\e_k^\\top)^2,\n",
        "   $$\n",
        "   por lo que basta ver que\n",
        "   $(\\l_k\\e_k^\\top)^2 = 0.$\n",
        "   Pues\n",
        "   $(\\l_k\\e_k^\\top)_{ij} = \\l_{k_{i1}}\\e^\\top_{k_{1j}} =  l_{i, k} $ si y solo si $i>k$ e $j=k$ y cero en otro caso, solo la $k$-esima columna no es cero, entonces\n",
        "   $(\\l_k\\e_k^\\top)^2_{ij}$\n"
      ]
    },
    {
      "cell_type": "markdown",
      "id": "bf6001e4-b054-4e29-a9dd-6ba92c03d315",
      "metadata": {
        "id": "bf6001e4-b054-4e29-a9dd-6ba92c03d315"
      },
      "source": [
        "---\n",
        "\n",
        "\n",
        "## Ejercicio 1 (5 puntos)\n",
        "\n",
        "Programar el algoritmo de factorización LU con pivoteo parcial y\n",
        "probarlo resolviendo un sistema de ecuaciones lineales de acuerdo al\n",
        "Algoritmo 1 de la clase 11.\n",
        "\n",
        "\n",
        "1. Programe la función  ``factorizacionLU`` que calcula la factorización LU\n",
        "   de acuerdo al Algoritmo 1:\n",
        "\n",
        "**Entrada:**\n",
        "- la matriz $\\mathbf{A}$ de tamaño $n$,\n",
        "- una tolerancia $\\tau$\n",
        "\n",
        "**Salida:**\n",
        "- El arreglo $\\mathbf{p}$ de enteros de tamaño $n$ que tiene la información de una permutación\n",
        "  realizada a las filas de la matriz, resultado del pivoteo parcial.\n",
        "- Las matrices  $\\mathbf{L}$ y  $\\mathbf{U}$ de tamaño $n$.\n",
        "- Un booleano que es igual a `True` si el algoritmo concluye de manera exitosa,\n",
        "  o es `False` en caso contrario.\n",
        "\n",
        "**Nota 1:**  Hay que tener cuidado al escribir el código porque el algoritmo está\n",
        "descrito de modo que los índices de las matrices y vectores empiezan en $1$,\n",
        "mientras que en Python empiezan en $0$.\n",
        "\n",
        "**Nota 2:**  Puede usar el producto exterior implementado en la\n",
        "función [numpy.outer](https://numpy.org/doc/stable/reference/generated/numpy.outer.html)\n",
        "\n",
        "`------------`\n",
        "\n",
        "2. Escriba la función ``calcularSolucionLU`` que resuelve el sistema\n",
        "   $\\mathbf{L}\\mathbf{U}\\mathbf{x} = \\mathbf{P}\\mathbf{b}$,\n",
        "   donde $\\mathbf{L}$ es una matriz triangular inferior y $\\mathbf{U}$ es una matriz triangular\n",
        "   superior.\n",
        "\n",
        "**Entrada:**\n",
        "- Las matrices $\\mathbf{L}$ y $\\mathbf{U}$\n",
        "- El vector $\\mathbf{b}$,\n",
        "- El arreglo de enteros $\\mathbf{p}$,\n",
        "- Una tolerancia $\\tau$.\n",
        "\n",
        "**Salida:**\n",
        "- El arreglo $\\mathbf{x}$ o `None`\n",
        "\n",
        "La función debe hacer lo siguiente:\n",
        "- Crear un arreglo $\\mathbf{\\hat{b}} = (\\hat{b}_1, ..., \\hat{b}_n)^\\top$\n",
        "  con los elementos de $\\mathbf{b} = (b_1, ..., b_n)^\\top$ reordenados de\n",
        "  acuerdo a $\\mathbf{p}=(p_1, ..., p_n)^\\top$, esto es, $\\hat{b}_i = b_{p_i}$.\n",
        "\n",
        "- Use las funciones `backwardSubstitution` y\n",
        "  `forwardSubstitution` de la Tarea 4 para resolver el sistema\n",
        "  de ecuaciones. Si no hay ningún problema, la función debe devolver\n",
        "  el arreglo de la solución $\\mathbf{x}$. En caso contrario, devolver `None`.\n",
        "\n",
        "`------------`\n",
        "\n",
        "\n",
        "3. Escriba la función  ``resuelverSistemaLineal`` que resuelve el sistema de ecuaciones\n",
        "   $\\mathbf{A}\\mathbf{x}=\\mathbf{b}$ usando la factorización LU.\n",
        "   \n",
        "**Entrada:**\n",
        "- La matriz $\\mathbf{A}$\n",
        "- El vector $\\mathbf{b}$\n",
        "- Una tolerancia $\\tau$\n",
        "\n",
        "**Salida:**\n",
        "- El arreglo $\\mathbf{x}$ o `None`.\n",
        "\n",
        "\n",
        "\n",
        "La función debe hacer lo siguiente:\n",
        "\n",
        "- Usar la función  ``factorizacionLU`` para obtener la factorizaci\\'on  LU de la matriz  $\\mathbf{A}$.\n",
        "- Si no se logró factorizar la matriz, devuelva `None`.\n",
        "- En caso contrario, use la función ``calcularSolucionLU``  del punto anterior para resolver\n",
        "  el sistema de ecuaciones $\\mathbf{L}\\mathbf{U}\\mathbf{x} = \\mathbf{P}\\mathbf{b}$,\n",
        "  y devolver la solución $\\mathbf{x}$ o `None` según el resultado de la función.\n",
        "  \n",
        "\n",
        "4. Pruebe la función anterior usando los datos en el archivo ``datosTarea05.zip``  dentro de la\n",
        "   carpeta ``datosLU``:\n",
        "   \n",
        "   \n",
        "| Matriz:          | Vector:      |\n",
        "|------------------|--------------|\n",
        "| matA005.npy      | vecb005.npy  |\n",
        "| matA010.npy      | vecb010.npy  |\n",
        "| matA015.npy      | vecb015.npy  |\n",
        "| matA100.npy      | vecb100.npy  |\n",
        "| matA500.npy      | vecb500.npy  |\n",
        "\n",
        "Para cada ejemplo haga lo siguiente:\n",
        "- Lea los archivos para crear la matriz $\\mathbf{A}$ y el vector $\\mathbf{b}$.\n",
        "- Imprima el tamaño de la matriz.\n",
        "- Aplique la función `resuelverSistemaLineal` usando como tolerancia\n",
        "  $\\tau = \\sqrt{\\epsilon_m}$, donde $\\epsilon_m$ es el épsilon de la máquina.\n",
        "- En caso de que sí fue obtenida la solución, imprima\n",
        "  las primeras y últimas entradas del vector solución e\n",
        "  imprima el valor del error  $\\|\\mathbf{A}\\mathbf{x} - \\mathbf{b}\\|$.\n",
        "- Si no se obtuvo la solución, imprima un mensaje que indique eso.\n",
        "\n",
        "\n",
        "### Solución:"
      ]
    },
    {
      "cell_type": "code",
      "execution_count": null,
      "id": "029093ba-8629-414f-9ca8-5b8ef3e2605e",
      "metadata": {
        "id": "029093ba-8629-414f-9ca8-5b8ef3e2605e"
      },
      "outputs": [],
      "source": [
        "# Código de la función\n",
        "\n",
        "\n"
      ]
    },
    {
      "cell_type": "code",
      "execution_count": null,
      "id": "8d0bea72-2e78-4f96-8a9b-eb8421d88de9",
      "metadata": {
        "id": "8d0bea72-2e78-4f96-8a9b-eb8421d88de9"
      },
      "outputs": [],
      "source": [
        "# Pruebas\n",
        "\n",
        "\n",
        "\n",
        "\n"
      ]
    }
  ],
  "metadata": {
    "kernelspec": {
      "display_name": "Python 3 (ipykernel)",
      "language": "python",
      "name": "python3"
    },
    "language_info": {
      "codemirror_mode": {
        "name": "ipython",
        "version": 3
      },
      "file_extension": ".py",
      "mimetype": "text/x-python",
      "name": "python",
      "nbconvert_exporter": "python",
      "pygments_lexer": "ipython3",
      "version": "3.9.13"
    },
    "colab": {
      "provenance": []
    }
  },
  "nbformat": 4,
  "nbformat_minor": 5
}