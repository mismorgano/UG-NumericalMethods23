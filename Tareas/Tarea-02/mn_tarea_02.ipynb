{
  "cells": [
    {
      "cell_type": "markdown",
      "id": "410ce899-6c64-4094-8e0e-5333fe213064",
      "metadata": {
        "id": "410ce899-6c64-4094-8e0e-5333fe213064"
      },
      "source": [
        "# Curso de Métodos Numéricos (DEMAT)\n",
        "# Tarea 2\n",
        "\n",
        "| Descripción:                         | Fechas                  |\n",
        "|--------------------------------------|-------------------------|\n",
        "| Fecha de publicación del documento:  | **Agosto 24, 2023**     |\n",
        "| Fecha límite de entrega de la tarea: | **Septiembre 3, 2023**  |"
      ]
    },
    {
      "cell_type": "markdown",
      "id": "05437f7a-1697-4d1a-9bb3-f61bf72c7f2d",
      "metadata": {
        "id": "05437f7a-1697-4d1a-9bb3-f61bf72c7f2d"
      },
      "source": [
        "## Indicaciones\n",
        "\n",
        "El propósito de esta tarea es poner en praćtica lo que hemos revisado\n",
        "sobre Python, por lo que los ejercicios son de programación.\n",
        "\n",
        "Puede escribir el código de los algoritmos que se piden en una\n",
        "celda de este notebook o si lo prefiere, escribir las funciones\n",
        "en un archivo `.py` independiente e importar la funciones para\n",
        "usarlas en este notebook. Lo importante es que en el notebook\n",
        "aparezcan los resultados de la pruebas realizadas y que:\n",
        "\n",
        "- Si se requieren otros archivos para poder reproducir los resultados,\n",
        "  para mandar la tarea cree un archivo ZIP en el que incluya\n",
        "  el notebook y los archivos adicionales.\n",
        "- Si todos los códigos para que se requieren para reproducir los\n",
        "  resultados están en el notebook, no hace falta comprimir el notebook\n",
        "  y puede anexar este archivo en la tarea del Classroom.\n",
        "- Exportar el notebook a un archivo PDF y anexarlo en la tarea del\n",
        "  Classroom como un archivo independiente.\n",
        "  **No incluya el PDF dentro del ZIP**, porque la idea que lo pueda accesar\n",
        "  directamente para poner anotaciones y la calificación de cada ejercicio.\n",
        "\n",
        "En la descripción de los ejercicios se nombran algunas variables\n",
        "para el algoritmo, pero sólo es para facilitar la descripción.\n",
        "En la implementación pueden nombrar sus variables como gusten.\n",
        "\n",
        "En los algoritmos se describen las entradas de las\n",
        "funciones. La intención es que tomen en cuenta lo que requiere\n",
        "el algoritmo y que tiene que haber parámetros que permitan\n",
        "controlar el comportamiento del algoritmo,\n",
        "evitando que dejen fijo un valor y que no se puede modificar\n",
        "para hacer diferentes pruebas. Si quieren dar esta información\n",
        "usando un tipo de dato que contenga todos los valores o\n",
        "usar variables por separado, etc., lo pueden hacer y no usen\n",
        "variables globales si no es necesario.\n",
        "\n",
        "Lo mismo para los valores que devuelve una función.\n",
        "Pueden codificar como gusten la manera en que regresa los cálculos.\n",
        "El punto es que podamos tener acceso a los resultados,\n",
        "sin usar variables globales, y que la función no sólo imprima\n",
        "los valores que después no los podamos usar.\n"
      ]
    },
    {
      "cell_type": "markdown",
      "id": "f3bcf19a-8a9d-4c8b-9f23-f96ce82bfbe7",
      "metadata": {
        "id": "f3bcf19a-8a9d-4c8b-9f23-f96ce82bfbe7"
      },
      "source": [
        "----\n",
        "\n",
        "## Ejercicio 1 (2 puntos)\n",
        "\n",
        "Importar la librería de Numpy.\n",
        "En esta librería están definidas las funciones `sum()` y `prod()`\n",
        "que calculan la suma y el producto de los elementos de un arreglo.\n"
      ]
    },
    {
      "cell_type": "code",
      "execution_count": 36,
      "id": "21f84fdf-f570-4cfa-b0b8-4fadc01fd7a9",
      "metadata": {
        "id": "21f84fdf-f570-4cfa-b0b8-4fadc01fd7a9",
        "outputId": "d28e671d-80e5-4738-a66b-a4409822f182",
        "colab": {
          "base_uri": "https://localhost:8080/",
          "height": 0
        }
      },
      "outputs": [
        {
          "output_type": "stream",
          "name": "stdout",
          "text": [
            "v= [ 0.85522658  1.18016297 -1.96022729 -0.95577165  0.03959438]\n",
            "Suma de los elementos de v: -0.8410150025285946\n",
            "Producto de los elementos de v: 0.07487163685402816\n"
          ]
        }
      ],
      "source": [
        "import numpy as np\n",
        "\n",
        "v = np.random.randn(5)\n",
        "print('v=', v)\n",
        "print('Suma de los elementos de v:', np.sum(v))\n",
        "print('Producto de los elementos de v:', np.prod(v))\n"
      ]
    },
    {
      "cell_type": "markdown",
      "id": "53cf2b90-790f-4ef0-b40a-a8d609dca85d",
      "metadata": {
        "id": "53cf2b90-790f-4ef0-b40a-a8d609dca85d"
      },
      "source": [
        "---\n",
        "\n",
        "Defina una función que reciba como argumento un arreglo de numpy $v$.\n",
        "\n",
        "La función debe devolver\n",
        "- el valor de la media aritmética $m_a$,\n",
        "- el valor de la media geométrica $m_g$, y\n",
        "- el valor de la media armónica $m_h$\n",
        "de los elementos de $v = (v_1, v_2, ..., v_n)$:\n",
        "\n",
        "$$ m_a = \\frac{1}{n} \\sum_{i=1}^n v_i $$\n",
        "\n",
        "$$ m_h = n \\left( \\sum_{i=1}^n \\frac{1}{v_i} \\right)^{-1} $$\n",
        "\n",
        "$$ m_g = \\left( \\prod_{i=1}^n v_i \\right)^{1/n} $$\n",
        "\n",
        "\n",
        "Muestre los valores que devuelve la función con los arreglos que\n",
        "se indican en la siguiente celda.\n",
        "\n",
        "### Solución:"
      ]
    },
    {
      "cell_type": "code",
      "execution_count": 37,
      "id": "ed7bc7ab-92c1-447c-b358-51d874459a76",
      "metadata": {
        "id": "ed7bc7ab-92c1-447c-b358-51d874459a76"
      },
      "outputs": [],
      "source": [
        "# Esta celda es para escribir el código de la función o importarla de un archivo\n",
        "def means(v: np.ndarray):\n",
        "  assert len(v) > 0, \"No empty array\"\n",
        "  assert all(el != 0 for el in v), \"All elements should be different of zero\"\n",
        "  ma = np.sum(v)/len(v)\n",
        "  mh = len(v)/(np.sum(1/v))\n",
        "  mg = np.float_power(np.prod(v), 1/len(v))\n",
        "  return ma, mh, mg\n",
        "\n"
      ]
    },
    {
      "cell_type": "code",
      "execution_count": 38,
      "id": "7c96483d-317f-4e83-bf71-260e44e1d354",
      "metadata": {
        "id": "7c96483d-317f-4e83-bf71-260e44e1d354",
        "outputId": "60e67e66-6c04-4ab3-932b-2acf53c6e85f",
        "colab": {
          "base_uri": "https://localhost:8080/",
          "height": 0
        }
      },
      "outputs": [
        {
          "output_type": "stream",
          "name": "stdout",
          "text": [
            "(10.5, 7.576875768757689, 8.887476182161876)\n",
            "(3.0, 2.3495586830928072, 2.6862591168550023)\n"
          ]
        }
      ],
      "source": [
        "# Arreglos para probar la función\n",
        "v1 = np.array([5, 8, 4, 10, 22, 14])\n",
        "v2 = np.linspace(1, 5, 10)\n",
        "v3 = np.log(v2)\n",
        "\n",
        "print(means(v1))\n",
        "\n",
        "print(means(v2))\n",
        "\n",
        "# means(v3)\n"
      ]
    },
    {
      "cell_type": "code",
      "source": [
        "print(means(v3))"
      ],
      "metadata": {
        "id": "eS1uwHjWaY5G",
        "outputId": "2482cd9a-5705-4d23-d0a1-5b1ab8cf4ed7",
        "colab": {
          "base_uri": "https://localhost:8080/",
          "height": 297
        }
      },
      "id": "eS1uwHjWaY5G",
      "execution_count": 39,
      "outputs": [
        {
          "output_type": "error",
          "ename": "AssertionError",
          "evalue": "ignored",
          "traceback": [
            "\u001b[0;31m---------------------------------------------------------------------------\u001b[0m",
            "\u001b[0;31mAssertionError\u001b[0m                            Traceback (most recent call last)",
            "\u001b[0;32m<ipython-input-39-68a98bcf1a13>\u001b[0m in \u001b[0;36m<cell line: 1>\u001b[0;34m()\u001b[0m\n\u001b[0;32m----> 1\u001b[0;31m \u001b[0mprint\u001b[0m\u001b[0;34m(\u001b[0m\u001b[0mmeans\u001b[0m\u001b[0;34m(\u001b[0m\u001b[0mv3\u001b[0m\u001b[0;34m)\u001b[0m\u001b[0;34m)\u001b[0m\u001b[0;34m\u001b[0m\u001b[0;34m\u001b[0m\u001b[0m\n\u001b[0m",
            "\u001b[0;32m<ipython-input-37-e70bedb32b8f>\u001b[0m in \u001b[0;36mmeans\u001b[0;34m(v)\u001b[0m\n\u001b[1;32m      2\u001b[0m \u001b[0;32mdef\u001b[0m \u001b[0mmeans\u001b[0m\u001b[0;34m(\u001b[0m\u001b[0mv\u001b[0m\u001b[0;34m:\u001b[0m \u001b[0mnp\u001b[0m\u001b[0;34m.\u001b[0m\u001b[0mndarray\u001b[0m\u001b[0;34m)\u001b[0m\u001b[0;34m:\u001b[0m\u001b[0;34m\u001b[0m\u001b[0;34m\u001b[0m\u001b[0m\n\u001b[1;32m      3\u001b[0m   \u001b[0;32massert\u001b[0m \u001b[0mlen\u001b[0m\u001b[0;34m(\u001b[0m\u001b[0mv\u001b[0m\u001b[0;34m)\u001b[0m \u001b[0;34m>\u001b[0m \u001b[0;36m0\u001b[0m\u001b[0;34m,\u001b[0m \u001b[0;34m\"No empty array\"\u001b[0m\u001b[0;34m\u001b[0m\u001b[0;34m\u001b[0m\u001b[0m\n\u001b[0;32m----> 4\u001b[0;31m   \u001b[0;32massert\u001b[0m \u001b[0mall\u001b[0m\u001b[0;34m(\u001b[0m\u001b[0mel\u001b[0m \u001b[0;34m!=\u001b[0m \u001b[0;36m0\u001b[0m \u001b[0;32mfor\u001b[0m \u001b[0mel\u001b[0m \u001b[0;32min\u001b[0m \u001b[0mv\u001b[0m\u001b[0;34m)\u001b[0m\u001b[0;34m,\u001b[0m \u001b[0;34m\"All elements should be different of zero\"\u001b[0m\u001b[0;34m\u001b[0m\u001b[0;34m\u001b[0m\u001b[0m\n\u001b[0m\u001b[1;32m      5\u001b[0m   \u001b[0mma\u001b[0m \u001b[0;34m=\u001b[0m \u001b[0mnp\u001b[0m\u001b[0;34m.\u001b[0m\u001b[0msum\u001b[0m\u001b[0;34m(\u001b[0m\u001b[0mv\u001b[0m\u001b[0;34m)\u001b[0m\u001b[0;34m/\u001b[0m\u001b[0mlen\u001b[0m\u001b[0;34m(\u001b[0m\u001b[0mv\u001b[0m\u001b[0;34m)\u001b[0m\u001b[0;34m\u001b[0m\u001b[0;34m\u001b[0m\u001b[0m\n\u001b[1;32m      6\u001b[0m   \u001b[0mmh\u001b[0m \u001b[0;34m=\u001b[0m \u001b[0mlen\u001b[0m\u001b[0;34m(\u001b[0m\u001b[0mv\u001b[0m\u001b[0;34m)\u001b[0m\u001b[0;34m/\u001b[0m\u001b[0;34m(\u001b[0m\u001b[0mnp\u001b[0m\u001b[0;34m.\u001b[0m\u001b[0msum\u001b[0m\u001b[0;34m(\u001b[0m\u001b[0;36m1\u001b[0m\u001b[0;34m/\u001b[0m\u001b[0mv\u001b[0m\u001b[0;34m)\u001b[0m\u001b[0;34m)\u001b[0m\u001b[0;34m\u001b[0m\u001b[0;34m\u001b[0m\u001b[0m\n",
            "\u001b[0;31mAssertionError\u001b[0m: All elements should be different of zero"
          ]
        }
      ]
    },
    {
      "cell_type": "markdown",
      "source": [
        "Podemos notar que se genera un error, esto es debido a que `v2` tiene un 1,\n",
        "por lo cual `log(v2)` tiene un cero y por tanto no se puede dividir por el."
      ],
      "metadata": {
        "id": "g18WDOUPabuA"
      },
      "id": "g18WDOUPabuA"
    },
    {
      "cell_type": "markdown",
      "id": "f80085d8-b5dd-4f65-9d08-8f77eb4af8e9",
      "metadata": {
        "id": "f80085d8-b5dd-4f65-9d08-8f77eb4af8e9"
      },
      "source": [
        "_\n",
        "\n",
        "```\n",
        "\n",
        "\n",
        "\n",
        "\n",
        "\n",
        "\n",
        "\n",
        "```\n",
        "\n",
        "---"
      ]
    },
    {
      "cell_type": "markdown",
      "id": "0be8adcb-95ea-4a07-af5d-02f07e6791c9",
      "metadata": {
        "id": "0be8adcb-95ea-4a07-af5d-02f07e6791c9"
      },
      "source": [
        "## Ejercicio 2 (3 puntos)\n",
        "\n",
        "Programe la función que devuelve el épsilon de la máquina $\\epsilon_m$\n",
        "siguiendo el algoritmo visto en clase:\n",
        "\n",
        "```\n",
        "epsilon = 0.5;\n",
        "unidad  = 1.0;\n",
        "valor   = unidad + epsilon;\n",
        "while valor > unidad,\n",
        "    epsilon = epsilon/2;\n",
        "    valor   = unidad + epsilon;\n",
        "end\n",
        "epsilon = epsilon*2;\n",
        "```"
      ]
    },
    {
      "cell_type": "markdown",
      "id": "55595f81-42d2-4c01-af09-283d091f9504",
      "metadata": {
        "id": "55595f81-42d2-4c01-af09-283d091f9504"
      },
      "source": [
        "Haga lo siguiente:\n",
        "\n",
        "- Imprimir el valor del épsilon de la máquina.\n",
        "- Imprima la diferencia entre ese valor y np.finfo(float).eps para\n",
        "  verificar que son iguales.\n",
        "- Para cada una de las filas de la siguiente tabla, asigne los\n",
        "  valores en cada columna a las variables $x_1$ y $x_2$.\n",
        "  Imprima como cadenas de caracteres los dos valores que se\n",
        "  se van a comparar y la cadena \"Iguales\" si $x_1$ y $x_2$ son\n",
        "  iguales o la cadena \"Diferentes\" en caso contrario.\n",
        "  Por ejemplo, para la primera fila de la tabla se debe imprimir\n",
        "  \n",
        "```\n",
        " 1+epsilon   1    Diferentes\n",
        "```\n",
        "\n",
        "\n",
        "$$ \\begin{array}{|r|r|}  \\hline\n",
        "   x_1 & x_2 \\\\ \\hline\n",
        "   1+\\epsilon_m     &  1  \\\\\n",
        "   \\epsilon_m/2     &  0  \\\\\n",
        "   1+\\epsilon_m/2   &  1  \\\\\n",
        "   1-\\epsilon_m/2   &  1  \\\\\n",
        "   1-\\epsilon_m/4   &  1  \\\\\n",
        "   1-\\epsilon_m/2   &  1-\\epsilon_m \\\\\n",
        "   \\epsilon_m^2     &  0  \\\\\n",
        "   \\epsilon_m^5     &  0  \\\\\n",
        "   \\epsilon_m+\\epsilon_m^2  &  \\epsilon_m  \\\\\n",
        "   \\epsilon_m-\\epsilon_m^3  &  \\epsilon_m  \\\\  \\hline\n",
        "\\end{array} $$\n",
        "\n",
        "### Solución:"
      ]
    },
    {
      "cell_type": "code",
      "execution_count": 19,
      "id": "26664bc6-c770-4790-89ff-fb559c4456e9",
      "metadata": {
        "id": "26664bc6-c770-4790-89ff-fb559c4456e9"
      },
      "outputs": [],
      "source": [
        "# Esta celda es para escribir el código de la función o importarla de un archivo\n",
        "def epsilon():\n",
        "  epsilon = 0.5;\n",
        "  unidad  = 1.0;\n",
        "  valor   = unidad + epsilon;\n",
        "  while valor > unidad:\n",
        "      epsilon = epsilon/2;\n",
        "      valor   = unidad + epsilon;\n",
        "\n",
        "  return epsilon*2;\n"
      ]
    },
    {
      "cell_type": "code",
      "execution_count": 40,
      "id": "e9134d7a-1630-4af4-a902-f4f45f53ba5d",
      "metadata": {
        "id": "e9134d7a-1630-4af4-a902-f4f45f53ba5d",
        "outputId": "16a075c0-aae5-4ebd-c326-91e552bad858",
        "colab": {
          "base_uri": "https://localhost:8080/",
          "height": 0
        }
      },
      "outputs": [
        {
          "output_type": "stream",
          "name": "stdout",
          "text": [
            "El epsilon de la maquina es: 2.220446049250313e-16\n",
            "La diferencia entre epsilon() y np.finfo(float).eps es: 0.0\n",
            "\n",
            "1+epsilon_m    1  Diferentes\n",
            "epsilon_m/2    0  Diferentes\n",
            "1+epsilon_m/2    1  Iguales\n",
            "1-epsilon_m/2    1  Diferentes\n",
            "1-epsilon_m/4    1  Iguales\n",
            "1-epsilon_m/2    1-epsilon  Diferentes\n",
            "epsilon_m^2    0  Diferentes\n",
            "epsilon_m^5    0  Diferentes\n",
            "epsilon_m + epsilon_m^2    epssilon  Diferentes\n",
            "epsilon_m epsilon_m-epsilon_m^3    epsilon  Diferentes\n"
          ]
        }
      ],
      "source": [
        "\n",
        "print(f\"El epsilon de la maquina es: {epsilon()}\")\n",
        "print(f\"La diferencia entre epsilon() y np.finfo(float).eps es: {np.finfo(float).eps - epsilon()}\")\n",
        "print()\n",
        "eps = epsilon()\n",
        "compara = lambda a, b: \"Iguales\" if a == b else \"Diferentes\"\n",
        "x1 = [1+eps, eps/2, 1 + eps/2, 1-eps/2, 1-eps/4, 1-eps/2, eps**2, eps**5, eps + eps**2, eps-eps**3]\n",
        "x2 = [1, 0, 1, 1, 1, 1-eps, 0, 0, eps, eps]\n",
        "x1_s = ['1+epsilon_m','epsilon_m/2', '1+epsilon_m/2', '1-epsilon_m/2',\n",
        "        '1-epsilon_m/4', '1-epsilon_m/2', 'epsilon_m^2', 'epsilon_m^5',\n",
        "        'epsilon_m + epsilon_m^2', 'epsilon_m epsilon_m-epsilon_m^3']\n",
        "x2_s = x2 = [1, 0, 1, 1, 1, '1-epsilon', 0, 0, 'epssilon', 'epsilon']\n",
        "print('\\n'.join(f\"{a}    {b}  {compara(c, d)}\" for (a, b, c, d) in zip(x1_s, x2_s, x1, x2)))\n"
      ]
    },
    {
      "cell_type": "markdown",
      "id": "572eb4cf-a163-41d7-8765-869b13af1b02",
      "metadata": {
        "id": "572eb4cf-a163-41d7-8765-869b13af1b02"
      },
      "source": [
        "_\n",
        "\n",
        "```\n",
        "\n",
        "\n",
        "\n",
        "\n",
        "\n",
        "\n",
        "\n",
        "```\n",
        "\n",
        "---"
      ]
    },
    {
      "cell_type": "markdown",
      "id": "af314e30-52b3-4894-8ea2-c6ba937ebdcc",
      "metadata": {
        "id": "af314e30-52b3-4894-8ea2-c6ba937ebdcc"
      },
      "source": [
        "\n",
        "\n",
        "## Ejercicio 2 (3 puntos)\n",
        "\n",
        "Supongamos que una computadora tiene 8 dígitos para representar la\n",
        "parte fraccionaria de un número de punto flotante.\n",
        "\n",
        "- Calcule el valor del épsilon de la máquina.\n",
        "- Dé la represención en notación científica\n",
        "  (la mantisa en base 2, multiplicada por 2 elevada al exponente\n",
        "  correspondiente)  del número 5.\n",
        "- Dé la representación en notación científica del número\n",
        "  consecutivo a 5 en la computadora.\n",
        "- Escriba el valor de la distancia $d_c$ entre 5 y su consecutivo.\n",
        "- Exprese $d_c$ en términos del épsilon de la máquina.\n",
        "- Tenemos que el consecutivo de 5 lo podemos expresar como $5 + d_c$.\n",
        "  Si tenemos un número real $x \\in (5,5+d_c)$, entonces\n",
        "  la representación en la computadora de $x$ es $fl(x)=5$ o\n",
        "  $fl(x)=5+d_c$. Escriba una cota para el error relativo\n",
        "  \n",
        "$$    \\left|\\frac{fl(x) - x}{x}\\right|  $$\n",
        "\n",
        "  para las dos posibles representaciones de $x$.\n",
        "\n",
        "\n",
        "### Solución:"
      ]
    },
    {
      "cell_type": "markdown",
      "id": "89156b47-cd8c-4de5-92c8-d5600f416634",
      "metadata": {
        "id": "89156b47-cd8c-4de5-92c8-d5600f416634"
      },
      "source": [
        "\n",
        "- En este caso tenemos que $p=8$, por lo que\n",
        "  $$ e_m = 2^{-p} = 2^{-8} = 0.00390625$$\n",
        "- Notemos que $5$ en base $2$ es $5_2 = 101$, ademas es positivo, por lo que\n",
        "  buscamos $d_1, d_2, …, d_8$ y $k$ tal que\n",
        "  $$ (1.d_1d_2⋯d_8)_2⋅2^k = (101)_2,$$\n",
        "  es decir queremos que se cumpla:\n",
        "  $$\n",
        "    \\left(1 + \\sum_{i=1}^8 \\frac{d_i}{2^i}  \\right) \\cdot 2^k = 2^k +  \\sum_{i=1}^8 d_i⋅2^{k-i} = 1 + 2^2,\n",
        "  $$\n",
        "  de lo anterior, al comparar los exponentes,\n",
        "  podemos notar que $k=2$, y por tanto se debe cumplir que\n",
        "  $$\n",
        "   2^2 + d_1 2^1 + d_22^0 + d_32^{-1} + ⋯ + d_82^{-6} = 1 + 2^2,\n",
        "  $$\n",
        "  y de manera similar, al comparar coeficientes tenemos que $d_2 = 1$, $d_1 = d_3 = d_4 = ⋯ = d_8 = 0$.\n",
        "  Por lo que la representacion cientifica de $5$ es: $(1.01)_2 \\cdot 2^2$.\n",
        "- Por el inciso anterior tenemos que $5 = (1.01000000)_2 \\cdot 2^2$, entonces el\n",
        "  siguiente numero representable es $5 + d_c = (1.01000001)_2 \\cdot 2^2$\n",
        "- De lo anterior tenemos que $d_c = (0.00000001)_2\\cdot 2^2 = 2^{-8} \\cdot 2^2$\n",
        "- Entonces tenemos que $d_c = 4\\cdot e_m$\n",
        "- Dado que $x\\in (5, 5 +d_c)$ podemos suponer que $x = (1.01000000d_1d_2…)_2⋅2^2$.\n",
        "  Primero veamos el caso $fl(x) = 5 = (1.01) \\cdot 2^2$, entonces se cumple que\n",
        "  $$\n",
        "  \\begin{aligned}\n",
        "    |fñ(x) - x| &= (1.01000000d_1d_2…)_2⋅2^2 - (1.01000000)_2 \\cdot 2^2 \\\\\n",
        "                &= (0.00000000d_1d_2…)_2⋅2^2 = (0.d_1d_2…)_2⋅2^2⋅2^{-8}\\\\\n",
        "                & \\leqslant 2^{-6},\n",
        "  \\end{aligned}            \n",
        "  $$\n",
        "  por lo cual tenemos que\n",
        "  $$\n",
        "    \\left|\\frac{fl(x) - x}{x}\\right| \\le \\frac{2^{-6}}{(1.01000000d_1d_2…)_2⋅2^2} \\le \\frac{2^{-6}}{2^2} = 2^{-8} = e_m.\n",
        "  $$\n",
        "  Para el caso $fl(x) = 5 +d_c$ supondremos que es porque $x$ está más cerca de\n",
        "  $5+d_c$ que de $5$, entonces se debe cumplir que\n",
        "  $$\n",
        "    |fl(x) - x| \\le \\frac{1}{2} (5+d_c - 5) = \\frac{1}{2}d_c = \\frac{1}{2}4e_m = 2e_m,\n",
        "  $$\n",
        "  lo cual implica que\n",
        "  $$\n",
        "    \\left|\\frac{fl(x) - x}{x}\\right| \\le \\frac{2e_m}{(1.01000000d_1d_2…)_2⋅2^2}\\le \\frac{2e_m}{2^2} = \\frac{e_m}{2}.\n",
        "  $$\n",
        "\n"
      ]
    },
    {
      "cell_type": "markdown",
      "id": "25b03075-c676-402a-8512-4af294f2dbcc",
      "metadata": {
        "id": "25b03075-c676-402a-8512-4af294f2dbcc"
      },
      "source": [
        "_\n",
        "\n",
        "```\n",
        "\n",
        "\n",
        "\n",
        "\n",
        "\n",
        "\n",
        "\n",
        "```\n",
        "\n",
        "---"
      ]
    },
    {
      "cell_type": "markdown",
      "id": "8cb4b53d-8b91-4bf6-8e95-115f26e7e7b1",
      "metadata": {
        "id": "8cb4b53d-8b91-4bf6-8e95-115f26e7e7b1"
      },
      "source": [
        "## Ejercicio 4 (2 puntos)\n",
        "\n",
        "Escriba una función que grafique una elipse. La función recibe los parámetros\n",
        "- las longitudes $a$ y $b$ de los ejes de la elipse\n",
        "- las coordenadas $(c_x, c_y)$ del centro de la elipse\n",
        "- el número de puntos $n$ sobre la elipse\n",
        "\n",
        "Haga que la función genere una partición $\\mathbf{\\theta}=\\{\\theta_1, ..., \\theta_n\\}$ de $n$ puntos del intervalo $[0, \\pi]$.\n",
        "\n",
        "Calcule un arreglo con las abscisas $\\mathbf{x}=\\{x_1, ..., x_n\\}$ y\n",
        "un arreglo con las ordenadas $\\mathbf{y}=\\{y_1, ..., y_n\\}$ de puntos sobre la elipse usando\n",
        "la representación paramétrica\n",
        "\n",
        "$$ x_i = a\\cos\\theta_i + c_x $$\n",
        "$$ y_i = b\\sin\\theta_i + c_y $$\n",
        "\n",
        "Usado los arreglos  $\\mathbf{x}$ y $\\mathbf{y}$ grafique la elipse.\n",
        "\n",
        "Muestre los resultados de la función con las siguientes combinaciones de parámetros:\n",
        "1. $a=4, b=4, c=(1,2), n=3$\n",
        "2. $a=4, b=4, c=(1,2), n=50$\n",
        "2. $a=5, b=2, c=(-4,2), n=50$\n",
        "\n",
        "**Nota:** Puede revisar las notas de la ayudantía 1 sobre generación de gráficas\n",
        "con la librería  `matplotlib`.\n",
        "\n",
        "### Solución:"
      ]
    },
    {
      "cell_type": "code",
      "execution_count": 41,
      "id": "d0c8bc44-62e2-4338-ac93-759b7fa6fa30",
      "metadata": {
        "id": "d0c8bc44-62e2-4338-ac93-759b7fa6fa30"
      },
      "outputs": [],
      "source": [
        "# Esta celda es para escribir el código de la función o importarla de un archivo\n",
        "import matplotlib.pyplot as plt\n",
        "\n",
        "def elipse(ax, a, b, c, n):\n",
        "  \"\"\"Draw an ellipse\"\"\"\n",
        "  theta = np.linspace(0, 2*np.pi, 2*n)\n",
        "  x = a*np.cos(theta) + c[0]\n",
        "  y = b*np.sin(theta) + c[1]\n",
        "  ax.set_xlabel('Eje X')\n",
        "  ax.set_ylabel('Eje Y')\n",
        "  ax.set_title('Elipses')\n",
        "  out = ax.plot(x, y)\n",
        "  return out\n",
        "\n"
      ]
    },
    {
      "cell_type": "code",
      "execution_count": 43,
      "id": "ccf04816-c7bd-474d-be1f-f5bb03e276bb",
      "metadata": {
        "id": "ccf04816-c7bd-474d-be1f-f5bb03e276bb",
        "outputId": "5a069f52-6971-451a-e3ad-3dcfef0bf0e7",
        "colab": {
          "base_uri": "https://localhost:8080/",
          "height": 472
        }
      },
      "outputs": [
        {
          "output_type": "display_data",
          "data": {
            "text/plain": [
              "<Figure size 640x480 with 1 Axes>"
            ],
            "image/png": "[encoded data removed]"
          },
          "metadata": {}
        }
      ],
      "source": [
        "# Pruebas de la función\n",
        "\n",
        "fig, ax = plt.subplots()\n",
        "\n",
        "elipse(ax, 4, 4, (1, 2), 3)\n",
        "elipse(ax, 4, 4, (1, 2), 50)\n",
        "elipse(ax, 5, 2, (-4, 2), 50)\n",
        "\n",
        "plt.show(fig)"
      ]
    },
    {
      "cell_type": "markdown",
      "source": [
        "\n",
        "En lugar de solo particionar $[0, π]$ particionamos $[0, 2π]$ para obtener la\n",
        "elipse completa."
      ],
      "metadata": {
        "id": "nodTwAr1PYYb"
      },
      "id": "nodTwAr1PYYb"
    }
  ],
  "metadata": {
    "kernelspec": {
      "display_name": "Python 3 (ipykernel)",
      "language": "python",
      "name": "python3"
    },
    "language_info": {
      "codemirror_mode": {
        "name": "ipython",
        "version": 3
      },
      "file_extension": ".py",
      "mimetype": "text/x-python",
      "name": "python",
      "nbconvert_exporter": "python",
      "pygments_lexer": "ipython3",
      "version": "3.9.13"
    },
    "colab": {
      "provenance": []
    }
  },
  "nbformat": 4,
  "nbformat_minor": 5
}